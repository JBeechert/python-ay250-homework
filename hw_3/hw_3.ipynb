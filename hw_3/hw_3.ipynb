{
 "cells": [
  {
   "cell_type": "markdown",
   "metadata": {},
   "source": [
    "# Homework 3 - Application Building\n",
    "\n",
    "## Jacqueline Beechert, jbeechert@berkeley.edu\n",
    "\n",
    "### I collaborated with Gregory Ottino. \n",
    "\n",
    "- Python Computing for Data Science (2022)\n",
    "\n",
    "- Due Tuesday Feb 15 (8pm)\n",
    "\n",
    "## CalCalc\n",
    "\n",
    "Write a module called `CalCalc`, with a method called `calculate` that evaluates any string passed to it, and can be used from either the command line (using `argparse` with reasonable flags) or imported within Python. Feel free to use something like `eval()`, but be aware of some of the nasty things it can do, and make sure it doesn’t have too much power:  http://nedbatchelder.com/blog/201206/eval_really_is_dangerous.html. Perhaps explore the use of `numexpr` to constrain the landscape of possible uses to math expressions.\n",
    "\n",
    "EXAMPLE:\n",
    "```bash\n",
    "$ python CalCalc.py -s '34*28'\n",
    "$ 952\n",
    "```\n",
    " AND, from within Python\n",
    " \n",
    "```python\n",
    ">>> from CalCalc import calculate\n",
    ">>> calculate('34*20')\n",
    ">>> 952\n",
    "```"
   ]
  },
  {
   "cell_type": "code",
   "execution_count": 123,
   "metadata": {},
   "outputs": [
    {
     "name": "stdout",
     "output_type": "stream",
     "text": [
      "Overwriting calcalc/CalCalc.py\n"
     ]
    }
   ],
   "source": [
    "%%file calcalc/CalCalc.py\n",
    "import argparse\n",
    "import urllib.parse, urllib.request\n",
    "import numpy as np\n",
    "import math\n",
    "\n",
    "def calculate(expression, wolfram_boolean=False, return_float=True):\n",
    "    \"\"\"\n",
    "    Takes an expression (string) an evaluates it with eval() or with Wolfram Alpha.\n",
    "    Required arguments:\n",
    "        expression: string, the expression to be evaluated. By default, this is evaluated with eval().\n",
    "    Optional arguments:\n",
    "        wolfram_boolean (default=False): if True, evaluate the expression with Wolfram Alpha. \n",
    "        return_float (default=True): if True, convert the output from Wolfram Alpha to a float.\n",
    "    \n",
    "    Example usage:\n",
    "    To evaluate with eval(), \n",
    "        $ python CalCalc.py -s '34*28'\n",
    "        952\n",
    "    To evaluate with Wolfram, \n",
    "        $ python CalCalc.py -w '34*28'\n",
    "        952.0\n",
    "        $ python CalCalc.py -w 'mass of the moon in kg'\n",
    "        7.3459e+22\n",
    "    \n",
    "    or\n",
    "    \n",
    "    To evaluate with eval(),\n",
    "        $ python\n",
    "        >>> from CalCalc import calculate\n",
    "        >>> calculate('34*28')\n",
    "        952\n",
    "    To evaluate with Wolfram,\n",
    "        $ python\n",
    "        >>> from CalCalc import calculate\n",
    "        >>> calculate('34*28', wolfram_boolean=True)\n",
    "        952.0\n",
    "        >>> calculate('mass of the moon in kg', wolfram_boolean=True, return_float=False)\n",
    "        'about 7.3459 times 10 to the 22 kilograms'\n",
    "    \"\"\"\n",
    "    \n",
    "    if wolfram_boolean:\n",
    "        query = urllib.parse.quote_plus(expression)\n",
    "        \n",
    "        # My own Wolfram API\n",
    "        url = f'http://api.wolframalpha.com/v1/result?appid=HLLE7E-Y7AW7JUR8G&i={query}%3F'\n",
    "\n",
    "        answer = urllib.request.urlopen(url).read()\n",
    "        answer = str(answer, 'utf-8')\n",
    "        \n",
    "        if return_float:\n",
    "            if 'times 10 to the' in answer:\n",
    "                answer = answer.replace(' times 10 to the ', ' e ')\n",
    "            answer = answer.split(' ')\n",
    "            new = []\n",
    "            for x in answer:\n",
    "                if x.replace('.','',1).isdigit() or x=='e':\n",
    "                    new.append(x)\n",
    "            answer = ''.join(str(elem) for elem in new)\n",
    "            answer = float(answer)\n",
    "        \n",
    "    else:\n",
    "        answer = eval(expression)\n",
    "        \n",
    "    return answer   \n",
    "    \n",
    "\n",
    "parser = argparse.ArgumentParser(description=\n",
    "                                 'Evaluate an expression, passed as a string, with eval or Wolfram alpha')\n",
    "\n",
    "exc = parser.add_mutually_exclusive_group()\n",
    "exc.add_argument('-s', action='store', dest='expression', \n",
    "                    help=\"Provide an expression ('string') to evaluate. \\\n",
    "                    DON\\'T PASS ANYTHING STUPID LIKE rm -r.\")\n",
    "\n",
    "exc.add_argument('-w', action='store', dest='wolfram_input', \n",
    "                     help=\"Provide a query ('string') for Wolfram Alpha to evaluate\")\n",
    "\n",
    "results = parser.parse_args()\n",
    "\n",
    "if __name__ == '__main__':\n",
    "    \n",
    "    if results.expression:\n",
    "        answer = calculate(results.expression)\n",
    "        \n",
    "    elif results.wolfram_input:\n",
    "        answer = calculate(results.wolfram_input, True)\n",
    "        \n",
    "    print(answer)"
   ]
  },
  {
   "cell_type": "code",
   "execution_count": 118,
   "metadata": {},
   "outputs": [
    {
     "name": "stdout",
     "output_type": "stream",
     "text": [
      "usage: CalCalc.py [-h] [-s EXPRESSION | -w WOLFRAM_INPUT]\n",
      "\n",
      "Evaluate an expression, passed as a string, with eval or Wolfram alpha\n",
      "\n",
      "optional arguments:\n",
      "  -h, --help        show this help message and exit\n",
      "  -s EXPRESSION     Provide an expression ('string') to evaluate. DON'T PASS\n",
      "                    ANYTHING STUPID LIKE rm -r.\n",
      "  -w WOLFRAM_INPUT  Provide a query ('string') for Wolfram Alpha to evaluate\n"
     ]
    }
   ],
   "source": [
    "%run calcalc/CalCalc.py -h"
   ]
  },
  {
   "cell_type": "code",
   "execution_count": 119,
   "metadata": {},
   "outputs": [
    {
     "name": "stdout",
     "output_type": "stream",
     "text": [
      "952\n"
     ]
    }
   ],
   "source": [
    "%run calcalc/CalCalc.py -s '34*28'"
   ]
  },
  {
   "cell_type": "markdown",
   "metadata": {},
   "source": [
    "## Answer\n",
    "Cool! CalCalc.py was created in my hw_3/CalCalc directory.\n",
    "\n",
    "If I run \n",
    "```bash\n",
    "$ python CalCalc.py -s '34*28'\n",
    "```\n",
    "in the command line, I get the expected answer of 952.\n",
    "\n",
    "If I run \n",
    "```bash\n",
    "$ python\n",
    "```\n",
    "in the command line to enter python and then type\n",
    "```python\n",
    ">>> from CalCalc import calculate\n",
    ">>> calculate('34*28'),\n",
    "```\n",
    "I get the expected answer of 952."
   ]
  },
  {
   "cell_type": "code",
   "execution_count": null,
   "metadata": {},
   "outputs": [],
   "source": []
  },
  {
   "cell_type": "markdown",
   "metadata": {},
   "source": [
    "### Add Wolfram\n",
    "\n",
    "To make this more awesome, have your function interact with the Wolfram|Alpha API to ask it what it thinks of the difficult questions.  To make this work, experiment with `urllib2` and a URL like this:\n",
    "'http://api.wolframalpha.com/v2/query?input=XXXXX&appid=UAGAWR-3X6Y8W777Q'\n",
    "where you replace the XXXXX with what you want to know.  NOTE: the ‘&appid=UAGAWR-3X6Y8W777Q’ part is vital; it is a W|A AppID I got for the class.  Feel free to use that one, or you can get your own and read more about the API, here:   http://products.wolframalpha.com/api/\n",
    "And you can explore how it works here:  http://products.wolframalpha.com/api/explorer.html\n",
    "\n",
    "EXAMPLE:\n",
    "\n",
    "```bash\n",
    "$ python CalCalc.py -w 'mass of the moon in kg'\n",
    "7.3459e+22\n",
    "```\n",
    "\n",
    "AND, from within Python\n",
    "\n",
    "```python\n",
    ">>> from CalCalc import calculate\n",
    ">>> calculate('mass of the moon in kg',  return_float=True) * 10\n",
    ">>> 7.3459e+23\n",
    "```"
   ]
  },
  {
   "cell_type": "code",
   "execution_count": 120,
   "metadata": {},
   "outputs": [
    {
     "name": "stdout",
     "output_type": "stream",
     "text": [
      "952.0\n"
     ]
    }
   ],
   "source": [
    "%run calcalc/CalCalc.py -w '34*28'"
   ]
  },
  {
   "cell_type": "code",
   "execution_count": 121,
   "metadata": {},
   "outputs": [
    {
     "name": "stdout",
     "output_type": "stream",
     "text": [
      "7.3459e+22\n"
     ]
    }
   ],
   "source": [
    "%run calcalc/CalCalc.py -w 'mass of the moon in kg'"
   ]
  },
  {
   "cell_type": "markdown",
   "metadata": {},
   "source": [
    "## Answer\n",
    "Please see CalCalc.py as I've written it above. I generated my own Wolfram API.\n",
    "By default, conver the Wolfram output to a float.\n",
    "\n",
    "To evaluate with Wolfram, \n",
    "```bash\n",
    "    $ python CalCalc.py -w '34*28'\n",
    "    952.0\n",
    "    $ python CalCalc.py -w 'mass of the moon in kg'\n",
    "    7.3459e+22\n",
    "```\n",
    "Or,\n",
    "```bash\n",
    "    $ python\n",
    "```\n",
    "```python\n",
    "    >>> from CalCalc import calculate\n",
    "    >>> calculate('34*28', wolfram_boolean=True)\n",
    "    952.0\n",
    "    >>> calculate('34*28', wolfram_boolean=True, return_float=False)\n",
    "    '952'\n",
    "    >>> calculate('mass of the moon in kg', wolfram_boolean=True)\n",
    "    7.3459e+22\n",
    "    >>> calculate('mass of the moon in kg', wolfram_boolean=True, return_float=False)\n",
    "    'about 7.3459 times 10 to the 22 kilograms'\n",
    "```"
   ]
  },
  {
   "cell_type": "code",
   "execution_count": null,
   "metadata": {},
   "outputs": [],
   "source": []
  },
  {
   "cell_type": "markdown",
   "metadata": {},
   "source": [
    "## Adding it to Github\n",
    "\n",
    "Start a github project for CalCalc. Include a setup.py, README.txt, LICENSE.txt, MANIFEST.in, etc. and turn your module into a proper Python Distribution, so that we can install it and use it. See https://packaging.python.org/en/latest/guides/distributing-packages-using-setuptools/ \n",
    "\n",
    "Example Folder Hierarchy:\n",
    "```bash\n",
    "Your_Homework3_Folder/calcalc\n",
    "                      |--> CalCalc.py\n",
    "                      |--> __init__.py\n",
    "Your_Homework3_Folder/setup.py\n",
    "Your_Homework3_Folder/README.txt\n",
    "...\n",
    "```\n",
    "Include at least 5 test functions in CalCalc.py, and test with `pytest`, to make sure it behaves the way you think it should.\n",
    "\n",
    "EXAMPLE `CalCalc.py`:\n",
    "```python\n",
    "# ...\n",
    "def calculate([...]):\n",
    "    [...]\n",
    "\n",
    "def test_1():\n",
    "    assert abs(4. - calculate('2**2')) < 0.001\n",
    "```\n",
    "\n",
    "When grading, we will create a virtual environment and attempt to install your module by running:\n",
    "\n",
    "```bash\n",
    "pip install build\n",
    "```"
   ]
  },
  {
   "cell_type": "code",
   "execution_count": 122,
   "metadata": {},
   "outputs": [
    {
     "name": "stdout",
     "output_type": "stream",
     "text": [
      "Overwriting calcalc/tests/test_1.py\n"
     ]
    }
   ],
   "source": [
    "%%file calcalc/tests/test_1.py\n",
    "from CalCalc import calculate\n",
    "\n",
    "def test_1():\n",
    "    assert abs(100.0 - calculate('1000/10')) < 0.001\n",
    "    \n",
    "def test_2():\n",
    "    assert calculate('How many ounces are in a gallon', True) == '128 fluid ounces' \n",
    "    \n",
    "def test_3():\n",
    "    expression = '2 + 3 + 6**2'\n",
    "    eval_answer = float(calculate(expression))\n",
    "    wolfram_answer = float(calculate(expression, True))\n",
    "    assert abs(eval_answer - wolfram_answer) < 0.001\n",
    "    \n",
    "def test_4():\n",
    "    # test that 'numpy' works with inf\n",
    "    assert calculate('np.inf/100') == float('inf')\n",
    "    \n",
    "def test_5():\n",
    "    # test that 'math' works with unit circle area\n",
    "    area = 'math.pi*1**2'\n",
    "    assert abs(3.14159 - calculate(area)) < 0.001"
   ]
  },
  {
   "cell_type": "markdown",
   "metadata": {},
   "source": [
    "## Answer\n",
    "After creating the tests in this 'tests' sub-directory, I am able to enter /hw_3/calcalc/tests and run \n",
    "```bash\n",
    "pytest\n",
    "```\n",
    "\n",
    "This then prints that \"5 passed in 1.38s.\" Good.\n",
    "\n",
    "Then, I moved to /hw_3 and ran\n",
    "```bash\n",
    "python setup.py sdist bdist_wheel\n",
    "```\n",
    "\n",
    "This creates /hw_3/dist, which contains\n",
    "```\n",
    "CalCalc-0.0.1-py3-none-any.whl\n",
    "```\n",
    "and\n",
    "```\n",
    "CalCalc-0.0.1.tar.gz\n",
    "```\n",
    "\n",
    "I committed this all to my hw_3 folder on GitHub. "
   ]
  },
  {
   "cell_type": "code",
   "execution_count": null,
   "metadata": {},
   "outputs": [],
   "source": []
  },
  {
   "cell_type": "markdown",
   "metadata": {},
   "source": [
    "### CalCalc on CI\n",
    "\n",
    "Get your project working with GitHub Actions and make sure your tests are run and pass. Give us a link to you GH actions for your site here (e.g. https://github.com/profjsb/PyAdder/actions):"
   ]
  },
  {
   "cell_type": "code",
   "execution_count": null,
   "metadata": {},
   "outputs": [],
   "source": []
  },
  {
   "cell_type": "code",
   "execution_count": null,
   "metadata": {},
   "outputs": [],
   "source": []
  },
  {
   "cell_type": "code",
   "execution_count": null,
   "metadata": {},
   "outputs": [],
   "source": []
  },
  {
   "cell_type": "markdown",
   "metadata": {},
   "source": [
    "### **(Bonus/Extra Credit)** \n",
    "\n",
    "  Get your project working on Azure, AWS or Google Compute Cloud with a Flask front-end. You can use the example from class as a template. Start a VM on one of these PaaS. A user should be able to submit their calcalc query on a form (hosted on your VM) and get the result back.\n",
    "\n",
    "You should be able to add an `app.py` (with Flask) into your CalCalc project. Be sure to open up the port on the VM that you are serving on. Let us know the URL to your app here:"
   ]
  },
  {
   "cell_type": "code",
   "execution_count": null,
   "metadata": {},
   "outputs": [],
   "source": []
  }
 ],
 "metadata": {
  "kernelspec": {
   "display_name": "Python 3 (ipykernel)",
   "language": "python",
   "name": "python3"
  },
  "language_info": {
   "codemirror_mode": {
    "name": "ipython",
    "version": 3
   },
   "file_extension": ".py",
   "mimetype": "text/x-python",
   "name": "python",
   "nbconvert_exporter": "python",
   "pygments_lexer": "ipython3",
   "version": "3.9.10"
  },
  "toc": {
   "base_numbering": 1,
   "nav_menu": {},
   "number_sections": true,
   "sideBar": true,
   "skip_h1_title": false,
   "title_cell": "Table of Contents",
   "title_sidebar": "Contents",
   "toc_cell": false,
   "toc_position": {},
   "toc_section_display": true,
   "toc_window_display": false
  },
  "varInspector": {
   "cols": {
    "lenName": 16,
    "lenType": 16,
    "lenVar": 40
   },
   "kernels_config": {
    "python": {
     "delete_cmd_postfix": "",
     "delete_cmd_prefix": "del ",
     "library": "var_list.py",
     "varRefreshCmd": "print(var_dic_list())"
    },
    "r": {
     "delete_cmd_postfix": ") ",
     "delete_cmd_prefix": "rm(",
     "library": "var_list.r",
     "varRefreshCmd": "cat(var_dic_list()) "
    }
   },
   "types_to_exclude": [
    "module",
    "function",
    "builtin_function_or_method",
    "instance",
    "_Feature"
   ],
   "window_display": false
  }
 },
 "nbformat": 4,
 "nbformat_minor": 1
}
