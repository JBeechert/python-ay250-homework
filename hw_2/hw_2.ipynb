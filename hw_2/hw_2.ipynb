{
 "cells": [
  {
   "cell_type": "markdown",
   "id": "0f7ed495",
   "metadata": {},
   "source": [
    "# HW2: Plotting & viz\n",
    "\n",
    "due Tuesday Feb 8, 2021 @ 8pm\n",
    "\n",
    "**submission instructions:**\n",
    "make a new directory in your HW github repo\n",
    "(e.g., `<yourname>_hw_2/`)"
   ]
  },
  {
   "cell_type": "code",
   "execution_count": 366,
   "id": "95abe29f",
   "metadata": {},
   "outputs": [],
   "source": [
    "#%matplotlib notebook\n",
    "%matplotlib inline"
   ]
  },
  {
   "cell_type": "markdown",
   "id": "fb096b66",
   "metadata": {},
   "source": [
    "## Critique the most important figure from a seminal paper in your field\n",
    "\n",
    "a) Embed (using `<img src= ...`) the original figure/caption along with a link to the original work. "
   ]
  },
  {
   "cell_type": "code",
   "execution_count": null,
   "id": "bbdae62f",
   "metadata": {},
   "outputs": [],
   "source": []
  },
  {
   "cell_type": "markdown",
   "id": "1752e816",
   "metadata": {},
   "source": [
    "b) In your own words, what story is this figure trying to convey? What does it do well? What could have been done better? What elements didn't need to be present to still convey the same story?"
   ]
  },
  {
   "cell_type": "code",
   "execution_count": null,
   "id": "d36a0832",
   "metadata": {},
   "outputs": [],
   "source": []
  },
  {
   "cell_type": "markdown",
   "id": "9c2c6553",
   "metadata": {},
   "source": [
    "## Reproduce one of your old published-paper quality plots with Bokeh or matplotlib.\n",
    "\n",
    "a) Provide the original plot, the recreated Bokeh/matlibplot plot, and the Python code used to make the new plot.  You can ask us for an example from us if you don't have your own plots."
   ]
  },
  {
   "cell_type": "code",
   "execution_count": null,
   "id": "ef00e3a2",
   "metadata": {},
   "outputs": [],
   "source": []
  },
  {
   "cell_type": "markdown",
   "id": "d127c07a",
   "metadata": {},
   "source": [
    "b) Add some (new) dynamic interactions to the plot--does it help tell your story better?"
   ]
  },
  {
   "cell_type": "code",
   "execution_count": null,
   "id": "6bc22247",
   "metadata": {},
   "outputs": [],
   "source": []
  },
  {
   "cell_type": "markdown",
   "id": "3d54a641",
   "metadata": {},
   "source": [
    "##  Volcano-induced Blastwave moving through California in 2022\n",
    "\n",
    "<img src=\"https://upload.wikimedia.org/wikipedia/commons/thumb/f/f9/Shockwave_from_Hunga_Tonga_GOES_17.gif/440px-Shockwave_from_Hunga_Tonga_GOES_17.gif\" width=\"30%\">\n",
    "\n",
    "The massive volcanic eruption near Tonga in the Pacific Ocean (20.550°S 175.385°W) occurred at 04:14:45 [UTC](https://en.wikipedia.org/wiki/Coordinated_Universal_Time) on 15 January 2022. The above animation (credit: Tim Schmit, NOAA/NESDIS/ASPB) shows propogation of the shockwave across the Earth as seen from space (using infrared measurements of water vapor). That shockwave was also measured as changing pressure in weather stations around the world. \n",
    "\n",
    "a) The CSV file `data/california_pressure_2022_01_15.csv` contains [Automated Surface Observing System (ASOS)](https://mesonet.agron.iastate.edu/ASOS/) pressure measurements at 64 stations in California taken several hours later that day, observed with 1-minute resolution. Read this data into a `pandas` DataFrame and then plot in the same figure the pressure as a function of time at SBA (Santa Barbara Municipal Airport, in Southern California), OAK (Oakland Airport, Bay Area), and MHS (Mount Shasta City, in Northern California). To allow a better visual comparison between the three, divide each plot by the initial value at the start of each of the timeseries. Overplot a 5-min thick vertical line for each timeseries (with the same color as the line) at the maximum of that series."
   ]
  },
  {
   "cell_type": "code",
   "execution_count": 240,
   "id": "22a3ba6f",
   "metadata": {},
   "outputs": [],
   "source": [
    "import pandas as pd\n",
    "import numpy as np\n",
    "import matplotlib.pyplot as plt\n",
    "from mpl_toolkits import mplot3d\n",
    "from datetime import datetime"
   ]
  },
  {
   "cell_type": "code",
   "execution_count": 406,
   "id": "14736ea2",
   "metadata": {},
   "outputs": [],
   "source": [
    "df = pd.read_csv(\"data/california_pressure_2022_01_15.csv\")#,parse_dates=[\"valid(UTC)\"])"
   ]
  },
  {
   "cell_type": "code",
   "execution_count": 407,
   "id": "dad2be49",
   "metadata": {},
   "outputs": [
    {
     "data": {
      "text/html": [
       "<div>\n",
       "<style scoped>\n",
       "    .dataframe tbody tr th:only-of-type {\n",
       "        vertical-align: middle;\n",
       "    }\n",
       "\n",
       "    .dataframe tbody tr th {\n",
       "        vertical-align: top;\n",
       "    }\n",
       "\n",
       "    .dataframe thead th {\n",
       "        text-align: right;\n",
       "    }\n",
       "</style>\n",
       "<table border=\"1\" class=\"dataframe\">\n",
       "  <thead>\n",
       "    <tr style=\"text-align: right;\">\n",
       "      <th></th>\n",
       "      <th>valid(UTC)</th>\n",
       "      <th>ACV</th>\n",
       "      <th>BFL</th>\n",
       "      <th>DAG</th>\n",
       "      <th>BIH</th>\n",
       "      <th>BLU</th>\n",
       "      <th>BLH</th>\n",
       "      <th>BUR</th>\n",
       "      <th>CMA</th>\n",
       "      <th>CRQ</th>\n",
       "      <th>...</th>\n",
       "      <th>SMX</th>\n",
       "      <th>SMO</th>\n",
       "      <th>STS</th>\n",
       "      <th>TVL</th>\n",
       "      <th>SCK</th>\n",
       "      <th>TRM</th>\n",
       "      <th>UKI</th>\n",
       "      <th>VCB</th>\n",
       "      <th>VNY</th>\n",
       "      <th>WVI</th>\n",
       "    </tr>\n",
       "  </thead>\n",
       "  <tbody>\n",
       "    <tr>\n",
       "      <th>0</th>\n",
       "      <td>2022-01-15 09:00:00</td>\n",
       "      <td>29.970</td>\n",
       "      <td>29.653</td>\n",
       "      <td>28.226</td>\n",
       "      <td>26.172</td>\n",
       "      <td>24.978</td>\n",
       "      <td>29.744</td>\n",
       "      <td>29.327</td>\n",
       "      <td>30.020</td>\n",
       "      <td>29.730</td>\n",
       "      <td>...</td>\n",
       "      <td>29.842</td>\n",
       "      <td>29.894</td>\n",
       "      <td>30.050</td>\n",
       "      <td>24.090</td>\n",
       "      <td>30.195</td>\n",
       "      <td>30.287</td>\n",
       "      <td>29.536</td>\n",
       "      <td>30.115</td>\n",
       "      <td>29.241</td>\n",
       "      <td>30.002</td>\n",
       "    </tr>\n",
       "    <tr>\n",
       "      <th>1</th>\n",
       "      <td>2022-01-15 09:01:00</td>\n",
       "      <td>29.969</td>\n",
       "      <td>29.654</td>\n",
       "      <td>28.226</td>\n",
       "      <td>26.172</td>\n",
       "      <td>24.978</td>\n",
       "      <td>29.743</td>\n",
       "      <td>29.328</td>\n",
       "      <td>30.020</td>\n",
       "      <td>29.730</td>\n",
       "      <td>...</td>\n",
       "      <td>29.842</td>\n",
       "      <td>29.894</td>\n",
       "      <td>30.050</td>\n",
       "      <td>24.090</td>\n",
       "      <td>30.197</td>\n",
       "      <td>30.287</td>\n",
       "      <td>29.536</td>\n",
       "      <td>30.116</td>\n",
       "      <td>29.241</td>\n",
       "      <td>30.002</td>\n",
       "    </tr>\n",
       "    <tr>\n",
       "      <th>2</th>\n",
       "      <td>2022-01-15 09:02:00</td>\n",
       "      <td>29.969</td>\n",
       "      <td>29.654</td>\n",
       "      <td>28.227</td>\n",
       "      <td>26.172</td>\n",
       "      <td>24.978</td>\n",
       "      <td>29.743</td>\n",
       "      <td>29.328</td>\n",
       "      <td>30.021</td>\n",
       "      <td>29.731</td>\n",
       "      <td>...</td>\n",
       "      <td>29.842</td>\n",
       "      <td>29.894</td>\n",
       "      <td>30.050</td>\n",
       "      <td>24.091</td>\n",
       "      <td>30.197</td>\n",
       "      <td>30.287</td>\n",
       "      <td>29.535</td>\n",
       "      <td>30.117</td>\n",
       "      <td>29.240</td>\n",
       "      <td>30.002</td>\n",
       "    </tr>\n",
       "    <tr>\n",
       "      <th>3</th>\n",
       "      <td>2022-01-15 09:03:00</td>\n",
       "      <td>29.969</td>\n",
       "      <td>29.654</td>\n",
       "      <td>28.227</td>\n",
       "      <td>26.175</td>\n",
       "      <td>24.977</td>\n",
       "      <td>29.744</td>\n",
       "      <td>29.327</td>\n",
       "      <td>30.020</td>\n",
       "      <td>29.730</td>\n",
       "      <td>...</td>\n",
       "      <td>29.842</td>\n",
       "      <td>29.894</td>\n",
       "      <td>30.051</td>\n",
       "      <td>24.091</td>\n",
       "      <td>30.195</td>\n",
       "      <td>30.288</td>\n",
       "      <td>29.535</td>\n",
       "      <td>30.117</td>\n",
       "      <td>29.240</td>\n",
       "      <td>30.002</td>\n",
       "    </tr>\n",
       "    <tr>\n",
       "      <th>4</th>\n",
       "      <td>2022-01-15 09:04:00</td>\n",
       "      <td>29.969</td>\n",
       "      <td>29.655</td>\n",
       "      <td>28.228</td>\n",
       "      <td>26.174</td>\n",
       "      <td>24.977</td>\n",
       "      <td>29.745</td>\n",
       "      <td>29.327</td>\n",
       "      <td>30.019</td>\n",
       "      <td>29.731</td>\n",
       "      <td>...</td>\n",
       "      <td>29.841</td>\n",
       "      <td>29.894</td>\n",
       "      <td>30.049</td>\n",
       "      <td>24.090</td>\n",
       "      <td>30.195</td>\n",
       "      <td>30.288</td>\n",
       "      <td>29.534</td>\n",
       "      <td>30.118</td>\n",
       "      <td>29.240</td>\n",
       "      <td>30.002</td>\n",
       "    </tr>\n",
       "  </tbody>\n",
       "</table>\n",
       "<p>5 rows × 65 columns</p>\n",
       "</div>"
      ],
      "text/plain": [
       "            valid(UTC)     ACV     BFL     DAG     BIH     BLU     BLH  \\\n",
       "0  2022-01-15 09:00:00  29.970  29.653  28.226  26.172  24.978  29.744   \n",
       "1  2022-01-15 09:01:00  29.969  29.654  28.226  26.172  24.978  29.743   \n",
       "2  2022-01-15 09:02:00  29.969  29.654  28.227  26.172  24.978  29.743   \n",
       "3  2022-01-15 09:03:00  29.969  29.654  28.227  26.175  24.977  29.744   \n",
       "4  2022-01-15 09:04:00  29.969  29.655  28.228  26.174  24.977  29.745   \n",
       "\n",
       "      BUR     CMA     CRQ  ...     SMX     SMO     STS     TVL     SCK  \\\n",
       "0  29.327  30.020  29.730  ...  29.842  29.894  30.050  24.090  30.195   \n",
       "1  29.328  30.020  29.730  ...  29.842  29.894  30.050  24.090  30.197   \n",
       "2  29.328  30.021  29.731  ...  29.842  29.894  30.050  24.091  30.197   \n",
       "3  29.327  30.020  29.730  ...  29.842  29.894  30.051  24.091  30.195   \n",
       "4  29.327  30.019  29.731  ...  29.841  29.894  30.049  24.090  30.195   \n",
       "\n",
       "      TRM     UKI     VCB     VNY     WVI  \n",
       "0  30.287  29.536  30.115  29.241  30.002  \n",
       "1  30.287  29.536  30.116  29.241  30.002  \n",
       "2  30.287  29.535  30.117  29.240  30.002  \n",
       "3  30.288  29.535  30.117  29.240  30.002  \n",
       "4  30.288  29.534  30.118  29.240  30.002  \n",
       "\n",
       "[5 rows x 65 columns]"
      ]
     },
     "execution_count": 407,
     "metadata": {},
     "output_type": "execute_result"
    }
   ],
   "source": [
    "df.head()"
   ]
  },
  {
   "cell_type": "code",
   "execution_count": 174,
   "id": "8f400211",
   "metadata": {},
   "outputs": [
    {
     "name": "stdout",
     "output_type": "stream",
     "text": [
      "SBA type: float64, OAK type: float64, MHS type: float64\n"
     ]
    }
   ],
   "source": [
    "SBA = df[\"SBA\"] / df[\"SBA\"][0]\n",
    "OAK = df[\"OAK\"] / df[\"OAK\"][0]\n",
    "MHS = df[\"MHS\"] / df[\"MHS\"][0]\n",
    "\n",
    "print(f\"SBA type: {SBA.dtype}, OAK type: {OAK.dtype}, MHS type: {MHS.dtype}\")"
   ]
  },
  {
   "cell_type": "code",
   "execution_count": 373,
   "id": "ca3fd79f",
   "metadata": {},
   "outputs": [
    {
     "data": {
      "image/png": "[encoded data removed]",
      "text/plain": [
       "<Figure size 720x432 with 1 Axes>"
      ]
     },
     "metadata": {
      "needs_background": "light"
     },
     "output_type": "display_data"
    }
   ],
   "source": [
    "fig, ax = plt.subplots(figsize=(10,6))\n",
    "time = np.arange(df.index.stop)\n",
    "\n",
    "color = ['b', 'k', 'r']\n",
    "ax.plot(time, SBA, label=\"SBA\", c=color[0])\n",
    "ax.plot(time, OAK, label=\"OAK\", c=color[1])\n",
    "ax.plot(time, MHS, label=\"MHS\", c=color[2])\n",
    "\n",
    "# overplot vertical line at maximum of each series\n",
    "SBA_max_time = time[np.argmax(SBA)]\n",
    "ax.axvspan(SBA_max_time - 2.5, SBA_max_time + 2.5, color=color[0], alpha=.5, lw=0)\n",
    "\n",
    "OAK_max_time = time[np.argmax(OAK)]\n",
    "ax.axvspan(OAK_max_time - 2.5, OAK_max_time + 2.5, color=color[1], alpha=.5, lw=0)\n",
    "\n",
    "MHS_max_time = time[np.argmax(MHS)]\n",
    "ax.axvspan(MHS_max_time - 2.5, MHS_max_time + 2.5, color=color[2], alpha=.5, lw=0)\n",
    "\n",
    "# label, legend parameters\n",
    "ax.set_xlabel(\"Minutes elapsed since {}\".format(df[\"valid(UTC)\"][0]), fontsize=14)\n",
    "ax.set_ylabel(\"Pressure / Initial pressure\", fontsize=14)\n",
    "ax.tick_params(axis=\"both\",labelsize=14)\n",
    "plt.legend(loc=\"best\",fontsize=14);"
   ]
  },
  {
   "cell_type": "code",
   "execution_count": null,
   "id": "d115b7c4",
   "metadata": {},
   "outputs": [],
   "source": []
  },
  {
   "cell_type": "markdown",
   "id": "a2932de8",
   "metadata": {},
   "source": [
    "b) What can you say about the similarity or dissimilarity of the three series? Why argument can you make that the similarities are due to the Tongan shockwave and not other effects? What do you notice about the location of the maximum of the three series?"
   ]
  },
  {
   "cell_type": "code",
   "execution_count": null,
   "id": "b57fbfa7",
   "metadata": {},
   "outputs": [],
   "source": []
  },
  {
   "cell_type": "markdown",
   "id": "752ac39c",
   "metadata": {},
   "source": [
    "c) On a map of California, create a static vizualization of the timelag of the passage of the shockwave through the 64 stations in California. You might find it helpful to detect significant changes at each station using rolling percent changes on ~5-10 minute intervals (cf. [`.pct_change(periods=...)`](https://pandas.pydata.org/docs/reference/api/pandas.DataFrame.pct_change.html) in pandas). The file `data/ca_asos.csv` contains the latitude and longitude of the stations. "
   ]
  },
  {
   "cell_type": "code",
   "execution_count": 209,
   "id": "3c51940a",
   "metadata": {},
   "outputs": [],
   "source": [
    "df_2 = pd.read_csv('data/ca_asos.csv',usecols=['stid', 'lat', 'lon'])"
   ]
  },
  {
   "cell_type": "code",
   "execution_count": 374,
   "id": "8cae0556",
   "metadata": {},
   "outputs": [
    {
     "data": {
      "text/html": [
       "<div>\n",
       "<style scoped>\n",
       "    .dataframe tbody tr th:only-of-type {\n",
       "        vertical-align: middle;\n",
       "    }\n",
       "\n",
       "    .dataframe tbody tr th {\n",
       "        vertical-align: top;\n",
       "    }\n",
       "\n",
       "    .dataframe thead th {\n",
       "        text-align: right;\n",
       "    }\n",
       "</style>\n",
       "<table border=\"1\" class=\"dataframe\">\n",
       "  <thead>\n",
       "    <tr style=\"text-align: right;\">\n",
       "      <th></th>\n",
       "      <th>stid</th>\n",
       "      <th>lat</th>\n",
       "      <th>lon</th>\n",
       "    </tr>\n",
       "  </thead>\n",
       "  <tbody>\n",
       "    <tr>\n",
       "      <th>0</th>\n",
       "      <td>AAT</td>\n",
       "      <td>41.49139</td>\n",
       "      <td>-120.56444</td>\n",
       "    </tr>\n",
       "    <tr>\n",
       "      <th>1</th>\n",
       "      <td>ACV</td>\n",
       "      <td>40.97811</td>\n",
       "      <td>-124.10861</td>\n",
       "    </tr>\n",
       "    <tr>\n",
       "      <th>2</th>\n",
       "      <td>AUN</td>\n",
       "      <td>38.95481</td>\n",
       "      <td>-121.08172</td>\n",
       "    </tr>\n",
       "    <tr>\n",
       "      <th>3</th>\n",
       "      <td>AVX</td>\n",
       "      <td>33.40500</td>\n",
       "      <td>-118.41583</td>\n",
       "    </tr>\n",
       "    <tr>\n",
       "      <th>4</th>\n",
       "      <td>BFL</td>\n",
       "      <td>35.43440</td>\n",
       "      <td>-119.05420</td>\n",
       "    </tr>\n",
       "  </tbody>\n",
       "</table>\n",
       "</div>"
      ],
      "text/plain": [
       "  stid       lat        lon\n",
       "0  AAT  41.49139 -120.56444\n",
       "1  ACV  40.97811 -124.10861\n",
       "2  AUN  38.95481 -121.08172\n",
       "3  AVX  33.40500 -118.41583\n",
       "4  BFL  35.43440 -119.05420"
      ]
     },
     "execution_count": 374,
     "metadata": {},
     "output_type": "execute_result"
    }
   ],
   "source": [
    "df_2.head(5)"
   ]
  },
  {
   "cell_type": "code",
   "execution_count": 375,
   "id": "d9fbdc1f",
   "metadata": {},
   "outputs": [],
   "source": [
    "# create dictionary of stations and lat, lon\n",
    "stations = np.array(df_2['stid'])\n",
    "lat = np.array(df_2['lat'])\n",
    "lon = np.array(df_2['lon'])\n",
    "\n",
    "d = {}\n",
    "\n",
    "for i in range(len(stations)):\n",
    "    station = stations[i]\n",
    "    d[station] = (lat[i], lon[i])"
   ]
  },
  {
   "cell_type": "code",
   "execution_count": 566,
   "id": "43f2ad18",
   "metadata": {},
   "outputs": [
    {
     "data": {
      "text/html": [
       "<div>\n",
       "<style scoped>\n",
       "    .dataframe tbody tr th:only-of-type {\n",
       "        vertical-align: middle;\n",
       "    }\n",
       "\n",
       "    .dataframe tbody tr th {\n",
       "        vertical-align: top;\n",
       "    }\n",
       "\n",
       "    .dataframe thead th {\n",
       "        text-align: right;\n",
       "    }\n",
       "</style>\n",
       "<table border=\"1\" class=\"dataframe\">\n",
       "  <thead>\n",
       "    <tr style=\"text-align: right;\">\n",
       "      <th></th>\n",
       "      <th>ACV</th>\n",
       "      <th>BFL</th>\n",
       "      <th>DAG</th>\n",
       "      <th>BIH</th>\n",
       "      <th>BLU</th>\n",
       "      <th>BLH</th>\n",
       "      <th>BUR</th>\n",
       "      <th>CMA</th>\n",
       "      <th>CRQ</th>\n",
       "      <th>NID</th>\n",
       "      <th>...</th>\n",
       "      <th>SMX</th>\n",
       "      <th>SMO</th>\n",
       "      <th>STS</th>\n",
       "      <th>TVL</th>\n",
       "      <th>SCK</th>\n",
       "      <th>TRM</th>\n",
       "      <th>UKI</th>\n",
       "      <th>VCB</th>\n",
       "      <th>VNY</th>\n",
       "      <th>WVI</th>\n",
       "    </tr>\n",
       "  </thead>\n",
       "  <tbody>\n",
       "    <tr>\n",
       "      <th>0</th>\n",
       "      <td>NaN</td>\n",
       "      <td>NaN</td>\n",
       "      <td>NaN</td>\n",
       "      <td>NaN</td>\n",
       "      <td>NaN</td>\n",
       "      <td>NaN</td>\n",
       "      <td>NaN</td>\n",
       "      <td>NaN</td>\n",
       "      <td>NaN</td>\n",
       "      <td>NaN</td>\n",
       "      <td>...</td>\n",
       "      <td>NaN</td>\n",
       "      <td>NaN</td>\n",
       "      <td>NaN</td>\n",
       "      <td>NaN</td>\n",
       "      <td>NaN</td>\n",
       "      <td>NaN</td>\n",
       "      <td>NaN</td>\n",
       "      <td>NaN</td>\n",
       "      <td>NaN</td>\n",
       "      <td>NaN</td>\n",
       "    </tr>\n",
       "    <tr>\n",
       "      <th>1</th>\n",
       "      <td>-0.000033</td>\n",
       "      <td>0.000034</td>\n",
       "      <td>0.000000</td>\n",
       "      <td>0.000000</td>\n",
       "      <td>0.00000</td>\n",
       "      <td>-0.000034</td>\n",
       "      <td>0.000034</td>\n",
       "      <td>0.000000</td>\n",
       "      <td>0.000000</td>\n",
       "      <td>0.000000</td>\n",
       "      <td>...</td>\n",
       "      <td>0.000000</td>\n",
       "      <td>0.000000</td>\n",
       "      <td>0.000000</td>\n",
       "      <td>0.000000</td>\n",
       "      <td>0.000066</td>\n",
       "      <td>0.000000</td>\n",
       "      <td>0.000000</td>\n",
       "      <td>0.000033</td>\n",
       "      <td>0.000000</td>\n",
       "      <td>0.000000</td>\n",
       "    </tr>\n",
       "    <tr>\n",
       "      <th>2</th>\n",
       "      <td>0.000000</td>\n",
       "      <td>0.000000</td>\n",
       "      <td>0.000035</td>\n",
       "      <td>0.000000</td>\n",
       "      <td>0.00000</td>\n",
       "      <td>0.000000</td>\n",
       "      <td>0.000000</td>\n",
       "      <td>0.000033</td>\n",
       "      <td>0.000034</td>\n",
       "      <td>0.000000</td>\n",
       "      <td>...</td>\n",
       "      <td>0.000000</td>\n",
       "      <td>0.000000</td>\n",
       "      <td>0.000000</td>\n",
       "      <td>0.000042</td>\n",
       "      <td>0.000000</td>\n",
       "      <td>0.000000</td>\n",
       "      <td>-0.000034</td>\n",
       "      <td>0.000033</td>\n",
       "      <td>-0.000034</td>\n",
       "      <td>0.000000</td>\n",
       "    </tr>\n",
       "    <tr>\n",
       "      <th>3</th>\n",
       "      <td>0.000000</td>\n",
       "      <td>0.000000</td>\n",
       "      <td>0.000000</td>\n",
       "      <td>0.000115</td>\n",
       "      <td>-0.00004</td>\n",
       "      <td>0.000034</td>\n",
       "      <td>-0.000034</td>\n",
       "      <td>-0.000033</td>\n",
       "      <td>-0.000034</td>\n",
       "      <td>0.000000</td>\n",
       "      <td>...</td>\n",
       "      <td>0.000000</td>\n",
       "      <td>0.000000</td>\n",
       "      <td>0.000033</td>\n",
       "      <td>0.000000</td>\n",
       "      <td>-0.000066</td>\n",
       "      <td>0.000033</td>\n",
       "      <td>0.000000</td>\n",
       "      <td>0.000000</td>\n",
       "      <td>0.000000</td>\n",
       "      <td>0.000000</td>\n",
       "    </tr>\n",
       "    <tr>\n",
       "      <th>4</th>\n",
       "      <td>0.000000</td>\n",
       "      <td>0.000034</td>\n",
       "      <td>0.000035</td>\n",
       "      <td>-0.000038</td>\n",
       "      <td>0.00000</td>\n",
       "      <td>0.000034</td>\n",
       "      <td>0.000000</td>\n",
       "      <td>-0.000033</td>\n",
       "      <td>0.000034</td>\n",
       "      <td>0.000000</td>\n",
       "      <td>...</td>\n",
       "      <td>-0.000034</td>\n",
       "      <td>0.000000</td>\n",
       "      <td>-0.000067</td>\n",
       "      <td>-0.000042</td>\n",
       "      <td>0.000000</td>\n",
       "      <td>0.000000</td>\n",
       "      <td>-0.000034</td>\n",
       "      <td>0.000033</td>\n",
       "      <td>0.000000</td>\n",
       "      <td>0.000000</td>\n",
       "    </tr>\n",
       "    <tr>\n",
       "      <th>...</th>\n",
       "      <td>...</td>\n",
       "      <td>...</td>\n",
       "      <td>...</td>\n",
       "      <td>...</td>\n",
       "      <td>...</td>\n",
       "      <td>...</td>\n",
       "      <td>...</td>\n",
       "      <td>...</td>\n",
       "      <td>...</td>\n",
       "      <td>...</td>\n",
       "      <td>...</td>\n",
       "      <td>...</td>\n",
       "      <td>...</td>\n",
       "      <td>...</td>\n",
       "      <td>...</td>\n",
       "      <td>...</td>\n",
       "      <td>...</td>\n",
       "      <td>...</td>\n",
       "      <td>...</td>\n",
       "      <td>...</td>\n",
       "      <td>...</td>\n",
       "    </tr>\n",
       "    <tr>\n",
       "      <th>476</th>\n",
       "      <td>0.000033</td>\n",
       "      <td>0.000034</td>\n",
       "      <td>0.000000</td>\n",
       "      <td>-0.000076</td>\n",
       "      <td>0.00000</td>\n",
       "      <td>0.000000</td>\n",
       "      <td>0.000034</td>\n",
       "      <td>0.000000</td>\n",
       "      <td>-0.000067</td>\n",
       "      <td>0.000036</td>\n",
       "      <td>...</td>\n",
       "      <td>0.000033</td>\n",
       "      <td>0.000000</td>\n",
       "      <td>0.000000</td>\n",
       "      <td>0.000000</td>\n",
       "      <td>0.000066</td>\n",
       "      <td>0.000000</td>\n",
       "      <td>-0.000034</td>\n",
       "      <td>0.000033</td>\n",
       "      <td>0.000034</td>\n",
       "      <td>0.000000</td>\n",
       "    </tr>\n",
       "    <tr>\n",
       "      <th>477</th>\n",
       "      <td>-0.000033</td>\n",
       "      <td>0.000034</td>\n",
       "      <td>0.000000</td>\n",
       "      <td>-0.000191</td>\n",
       "      <td>0.00004</td>\n",
       "      <td>-0.000033</td>\n",
       "      <td>0.000034</td>\n",
       "      <td>0.000000</td>\n",
       "      <td>-0.000101</td>\n",
       "      <td>0.000036</td>\n",
       "      <td>...</td>\n",
       "      <td>-0.000033</td>\n",
       "      <td>0.000033</td>\n",
       "      <td>-0.000033</td>\n",
       "      <td>0.000000</td>\n",
       "      <td>0.000066</td>\n",
       "      <td>0.000000</td>\n",
       "      <td>-0.000034</td>\n",
       "      <td>0.000033</td>\n",
       "      <td>0.000000</td>\n",
       "      <td>-0.000033</td>\n",
       "    </tr>\n",
       "    <tr>\n",
       "      <th>478</th>\n",
       "      <td>0.000000</td>\n",
       "      <td>0.000000</td>\n",
       "      <td>0.000035</td>\n",
       "      <td>0.000038</td>\n",
       "      <td>0.00000</td>\n",
       "      <td>0.000000</td>\n",
       "      <td>0.000000</td>\n",
       "      <td>0.000000</td>\n",
       "      <td>-0.000034</td>\n",
       "      <td>0.000000</td>\n",
       "      <td>...</td>\n",
       "      <td>0.000000</td>\n",
       "      <td>-0.000033</td>\n",
       "      <td>0.000033</td>\n",
       "      <td>0.000042</td>\n",
       "      <td>0.000033</td>\n",
       "      <td>0.000033</td>\n",
       "      <td>0.000000</td>\n",
       "      <td>-0.000033</td>\n",
       "      <td>0.000034</td>\n",
       "      <td>0.000033</td>\n",
       "    </tr>\n",
       "    <tr>\n",
       "      <th>479</th>\n",
       "      <td>-0.000067</td>\n",
       "      <td>-0.000034</td>\n",
       "      <td>0.000000</td>\n",
       "      <td>0.000076</td>\n",
       "      <td>0.00000</td>\n",
       "      <td>-0.000033</td>\n",
       "      <td>0.000000</td>\n",
       "      <td>0.000000</td>\n",
       "      <td>0.000000</td>\n",
       "      <td>-0.000036</td>\n",
       "      <td>...</td>\n",
       "      <td>0.000033</td>\n",
       "      <td>0.000000</td>\n",
       "      <td>0.000033</td>\n",
       "      <td>0.000000</td>\n",
       "      <td>0.000000</td>\n",
       "      <td>0.000000</td>\n",
       "      <td>0.000000</td>\n",
       "      <td>-0.000033</td>\n",
       "      <td>0.000000</td>\n",
       "      <td>0.000100</td>\n",
       "    </tr>\n",
       "    <tr>\n",
       "      <th>480</th>\n",
       "      <td>0.000000</td>\n",
       "      <td>0.000000</td>\n",
       "      <td>0.000000</td>\n",
       "      <td>0.000076</td>\n",
       "      <td>-0.00004</td>\n",
       "      <td>-0.000033</td>\n",
       "      <td>0.000034</td>\n",
       "      <td>0.000033</td>\n",
       "      <td>0.000000</td>\n",
       "      <td>-0.000036</td>\n",
       "      <td>...</td>\n",
       "      <td>0.000067</td>\n",
       "      <td>0.000000</td>\n",
       "      <td>0.000033</td>\n",
       "      <td>0.000041</td>\n",
       "      <td>-0.000033</td>\n",
       "      <td>-0.000033</td>\n",
       "      <td>0.000034</td>\n",
       "      <td>-0.000033</td>\n",
       "      <td>0.000000</td>\n",
       "      <td>0.000000</td>\n",
       "    </tr>\n",
       "  </tbody>\n",
       "</table>\n",
       "<p>481 rows × 64 columns</p>\n",
       "</div>"
      ],
      "text/plain": [
       "          ACV       BFL       DAG       BIH      BLU       BLH       BUR  \\\n",
       "0         NaN       NaN       NaN       NaN      NaN       NaN       NaN   \n",
       "1   -0.000033  0.000034  0.000000  0.000000  0.00000 -0.000034  0.000034   \n",
       "2    0.000000  0.000000  0.000035  0.000000  0.00000  0.000000  0.000000   \n",
       "3    0.000000  0.000000  0.000000  0.000115 -0.00004  0.000034 -0.000034   \n",
       "4    0.000000  0.000034  0.000035 -0.000038  0.00000  0.000034  0.000000   \n",
       "..        ...       ...       ...       ...      ...       ...       ...   \n",
       "476  0.000033  0.000034  0.000000 -0.000076  0.00000  0.000000  0.000034   \n",
       "477 -0.000033  0.000034  0.000000 -0.000191  0.00004 -0.000033  0.000034   \n",
       "478  0.000000  0.000000  0.000035  0.000038  0.00000  0.000000  0.000000   \n",
       "479 -0.000067 -0.000034  0.000000  0.000076  0.00000 -0.000033  0.000000   \n",
       "480  0.000000  0.000000  0.000000  0.000076 -0.00004 -0.000033  0.000034   \n",
       "\n",
       "          CMA       CRQ       NID  ...       SMX       SMO       STS  \\\n",
       "0         NaN       NaN       NaN  ...       NaN       NaN       NaN   \n",
       "1    0.000000  0.000000  0.000000  ...  0.000000  0.000000  0.000000   \n",
       "2    0.000033  0.000034  0.000000  ...  0.000000  0.000000  0.000000   \n",
       "3   -0.000033 -0.000034  0.000000  ...  0.000000  0.000000  0.000033   \n",
       "4   -0.000033  0.000034  0.000000  ... -0.000034  0.000000 -0.000067   \n",
       "..        ...       ...       ...  ...       ...       ...       ...   \n",
       "476  0.000000 -0.000067  0.000036  ...  0.000033  0.000000  0.000000   \n",
       "477  0.000000 -0.000101  0.000036  ... -0.000033  0.000033 -0.000033   \n",
       "478  0.000000 -0.000034  0.000000  ...  0.000000 -0.000033  0.000033   \n",
       "479  0.000000  0.000000 -0.000036  ...  0.000033  0.000000  0.000033   \n",
       "480  0.000033  0.000000 -0.000036  ...  0.000067  0.000000  0.000033   \n",
       "\n",
       "          TVL       SCK       TRM       UKI       VCB       VNY       WVI  \n",
       "0         NaN       NaN       NaN       NaN       NaN       NaN       NaN  \n",
       "1    0.000000  0.000066  0.000000  0.000000  0.000033  0.000000  0.000000  \n",
       "2    0.000042  0.000000  0.000000 -0.000034  0.000033 -0.000034  0.000000  \n",
       "3    0.000000 -0.000066  0.000033  0.000000  0.000000  0.000000  0.000000  \n",
       "4   -0.000042  0.000000  0.000000 -0.000034  0.000033  0.000000  0.000000  \n",
       "..        ...       ...       ...       ...       ...       ...       ...  \n",
       "476  0.000000  0.000066  0.000000 -0.000034  0.000033  0.000034  0.000000  \n",
       "477  0.000000  0.000066  0.000000 -0.000034  0.000033  0.000000 -0.000033  \n",
       "478  0.000042  0.000033  0.000033  0.000000 -0.000033  0.000034  0.000033  \n",
       "479  0.000000  0.000000  0.000000  0.000000 -0.000033  0.000000  0.000100  \n",
       "480  0.000041 -0.000033 -0.000033  0.000034 -0.000033  0.000000  0.000000  \n",
       "\n",
       "[481 rows x 64 columns]"
      ]
     },
     "execution_count": 566,
     "metadata": {},
     "output_type": "execute_result"
    }
   ],
   "source": [
    "# computes percent change from immediately previous row, by default\n",
    "# select the columns containing pressures from the first data fram\n",
    "#  and set the period to 5 rows for finding the percent change over the\n",
    "#  previous 5 minute interval --> first five rows are NaN\n",
    "\n",
    "interval = 1 # minutes\n",
    "\n",
    "pct_change_df = df.iloc[:,1:].pct_change(periods=interval)\n",
    "pct_change_df"
   ]
  },
  {
   "cell_type": "code",
   "execution_count": 567,
   "id": "97d5b294",
   "metadata": {},
   "outputs": [
    {
     "data": {
      "image/png": "[encoded data removed]",
      "text/plain": [
       "<Figure size 576x288 with 2 Axes>"
      ]
     },
     "metadata": {
      "needs_background": "light"
     },
     "output_type": "display_data"
    }
   ],
   "source": [
    "f, ax = plt.subplots(figsize=(8,4), subplot_kw={'projection': '3d'})\n",
    "f.subplots_adjust(top=1.)\n",
    "\n",
    "num_largest_changes = 25\n",
    "\n",
    "color_map = plt.get_cmap('viridis')\n",
    "\n",
    "for key in d:#[\"ACV\",\"OAK\"]:\n",
    "    if key in list(df):\n",
    "\n",
    "        percent_changes = pct_change_df[key].nlargest(n=num_largest_changes) * 1E3\n",
    "        time_of_change = percent_changes.index\n",
    "        \n",
    "        plot = ax.scatter3D(d[key][0], d[key][1], time_of_change,\n",
    "                     c = percent_changes,\n",
    "                    cmap = color_map)\n",
    "\n",
    "plt.colorbar(plot, location='bottom', orientation='horizontal', \n",
    "             label=r'10${^3} \\times$Percent change in pressure'+'\\n'+\n",
    "             f'(Change over previous {interval} minutes)')\n",
    "\n",
    "ax.set_xlabel(r'Latitude [$^{\\circ}$]')\n",
    "ax.set_ylabel(r'Longitude [$^{\\circ}$]')\n",
    "ax.yaxis.labelpad=10\n",
    "ax.set_zlabel(\"Minutes elapsed since \\n {}\".format(df[\"valid(UTC)\"][0]))\n",
    "ax.zaxis.labelpad=8\n"
   ]
  },
  {
   "cell_type": "code",
   "execution_count": null,
   "id": "b060ee5a",
   "metadata": {},
   "outputs": [],
   "source": []
  },
  {
   "cell_type": "markdown",
   "id": "763aa13d",
   "metadata": {},
   "source": [
    "d) Pick one station and determine when you believe the shockwave first passed through that station. Using this information and the time of the explosion determine the speed of the shockwave. How does this compare to the speed of sound in air?"
   ]
  },
  {
   "cell_type": "code",
   "execution_count": 568,
   "id": "688a8a4a",
   "metadata": {},
   "outputs": [],
   "source": [
    "max_time_idx = pct_change_df.loc[pct_change_df[\"OAK\"] == pct_change_df[\"OAK\"].max()].index[0]"
   ]
  },
  {
   "cell_type": "code",
   "execution_count": 569,
   "id": "0d514ccd",
   "metadata": {},
   "outputs": [
    {
     "name": "stdout",
     "output_type": "stream",
     "text": [
      "2022-01-15 04:15:45\n",
      "2022-01-15 12:03:00\n"
     ]
    }
   ],
   "source": [
    "t0 = datetime(2022, 1, 15, 4, 15, 45)\n",
    "tmax = datetime.strptime(df[\"valid(UTC)\"][max_time_idx], \"%Y-%m-%d %H:%M:%S\")\n",
    "print(t0)\n",
    "print(tmax)"
   ]
  },
  {
   "cell_type": "code",
   "execution_count": 570,
   "id": "af81f741",
   "metadata": {},
   "outputs": [],
   "source": [
    "delta_t = tmax - t0\n",
    "\n",
    "# convert to float in seconds\n",
    "delta_t = delta_t.total_seconds()"
   ]
  },
  {
   "cell_type": "code",
   "execution_count": 571,
   "id": "b9f2da43",
   "metadata": {},
   "outputs": [],
   "source": [
    "x0 = (-20.550, -175.385) # 20.550° S, 175.385° W\n",
    "x = d[\"OAK\"]"
   ]
  },
  {
   "cell_type": "code",
   "execution_count": 572,
   "id": "76589dae",
   "metadata": {},
   "outputs": [],
   "source": [
    "from scipy.constants import speed_of_sound\n",
    "from astropy.constants import R_earth # in meters\n",
    "from haversine import haversine, Unit # https://pypi.org/project/haversine/"
   ]
  },
  {
   "cell_type": "code",
   "execution_count": 573,
   "id": "3a3f9246",
   "metadata": {},
   "outputs": [],
   "source": [
    "distance = haversine(x, x0, unit='m')"
   ]
  },
  {
   "cell_type": "code",
   "execution_count": 574,
   "id": "36119f08",
   "metadata": {},
   "outputs": [
    {
     "data": {
      "text/plain": [
       "304.3946422773973"
      ]
     },
     "execution_count": 574,
     "metadata": {},
     "output_type": "execute_result"
    }
   ],
   "source": [
    "speed = distance / delta_t\n",
    "speed"
   ]
  },
  {
   "cell_type": "code",
   "execution_count": 575,
   "id": "6a1a940e",
   "metadata": {},
   "outputs": [
    {
     "data": {
      "text/plain": [
       "340.5"
      ]
     },
     "execution_count": 575,
     "metadata": {},
     "output_type": "execute_result"
    }
   ],
   "source": [
    "speed_of_sound"
   ]
  },
  {
   "cell_type": "code",
   "execution_count": 576,
   "id": "53b90129",
   "metadata": {},
   "outputs": [
    {
     "data": {
      "text/plain": [
       "0.10603629287107993"
      ]
     },
     "execution_count": 576,
     "metadata": {},
     "output_type": "execute_result"
    }
   ],
   "source": [
    "np.abs(speed - speed_of_sound)/speed_of_sound"
   ]
  },
  {
   "cell_type": "code",
   "execution_count": 563,
   "id": "681e896a",
   "metadata": {},
   "outputs": [],
   "source": [
    "# pretty close to speed of sound in air! We incur some error because we're finding \n",
    "# percent changes over a given time interval on the order of minutes.\n",
    "# At a 5 minute look-back time, we see ~50 m/s difference, or ~14.8% error. \n",
    "# At a 1 minute look-back time, we see ~36 m/s difference, or ~10.6% error. \n",
    "\n",
    "# We don't have data with finer timing resolution than ~1 minute, so perhaps\n",
    "# 10.6% isn't a bad systematic error. "
   ]
  },
  {
   "cell_type": "code",
   "execution_count": null,
   "id": "44a73f4d",
   "metadata": {},
   "outputs": [],
   "source": []
  },
  {
   "cell_type": "markdown",
   "id": "81c436e1",
   "metadata": {},
   "source": [
    "**EXTRA CREDIT**  Produce an animation of passage of the shockwave through California using this dataset. Hint: take at look at `matplotlib.animation.FuncAnimation`."
   ]
  },
  {
   "cell_type": "code",
   "execution_count": null,
   "id": "61aefe8f",
   "metadata": {},
   "outputs": [],
   "source": []
  },
  {
   "cell_type": "code",
   "execution_count": null,
   "id": "e29b1ce7",
   "metadata": {},
   "outputs": [],
   "source": []
  }
 ],
 "metadata": {
  "kernelspec": {
   "display_name": "Python 3 (ipykernel)",
   "language": "python",
   "name": "python3"
  },
  "language_info": {
   "codemirror_mode": {
    "name": "ipython",
    "version": 3
   },
   "file_extension": ".py",
   "mimetype": "text/x-python",
   "name": "python",
   "nbconvert_exporter": "python",
   "pygments_lexer": "ipython3",
   "version": "3.9.10"
  },
  "toc": {
   "base_numbering": 1,
   "nav_menu": {},
   "number_sections": true,
   "sideBar": true,
   "skip_h1_title": false,
   "title_cell": "Table of Contents",
   "title_sidebar": "Contents",
   "toc_cell": false,
   "toc_position": {},
   "toc_section_display": true,
   "toc_window_display": false
  },
  "varInspector": {
   "cols": {
    "lenName": 16,
    "lenType": 16,
    "lenVar": 40
   },
   "kernels_config": {
    "python": {
     "delete_cmd_postfix": "",
     "delete_cmd_prefix": "del ",
     "library": "var_list.py",
     "varRefreshCmd": "print(var_dic_list())"
    },
    "r": {
     "delete_cmd_postfix": ") ",
     "delete_cmd_prefix": "rm(",
     "library": "var_list.r",
     "varRefreshCmd": "cat(var_dic_list()) "
    }
   },
   "types_to_exclude": [
    "module",
    "function",
    "builtin_function_or_method",
    "instance",
    "_Feature"
   ],
   "window_display": false
  }
 },
 "nbformat": 4,
 "nbformat_minor": 5
}
