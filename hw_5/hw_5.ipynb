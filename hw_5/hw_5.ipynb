{
 "cells": [
  {
   "cell_type": "markdown",
   "id": "6b00cc2b",
   "metadata": {},
   "source": [
    "## Homework 5: Weather Prediction\n",
    "\n",
    "### Jacqueline Beechert, jbeechert@berkeley.edu\n",
    "\n",
    "Due Tuesday March 8, 2022 @ 5pm"
   ]
  },
  {
   "cell_type": "markdown",
   "id": "d23bac5a",
   "metadata": {},
   "source": [
    "## 1. Use the data supplied of airport codes (ICAO_airports.csv) and top airports (top_airports.csv) to make a table of 50 most travelled airports in the US and containing relevant information, like name, wikipedia link, latitude, longitude"
   ]
  },
  {
   "cell_type": "code",
   "execution_count": 269,
   "id": "29474b73",
   "metadata": {},
   "outputs": [],
   "source": [
    "import pandas as pd\n",
    "import numpy as np\n",
    "import sqlite3"
   ]
  },
  {
   "cell_type": "code",
   "execution_count": 270,
   "id": "85d08b2b",
   "metadata": {},
   "outputs": [],
   "source": [
    "icao_df = pd.read_csv(\"hw_5_data/ICAO_airports.csv\")\n",
    "top_df = pd.read_csv(\"hw_5_data/top_airports.csv\")"
   ]
  },
  {
   "cell_type": "code",
   "execution_count": 282,
   "id": "66c32ed4",
   "metadata": {},
   "outputs": [
    {
     "data": {
      "text/html": [
       "<div>\n",
       "<style scoped>\n",
       "    .dataframe tbody tr th:only-of-type {\n",
       "        vertical-align: middle;\n",
       "    }\n",
       "\n",
       "    .dataframe tbody tr th {\n",
       "        vertical-align: top;\n",
       "    }\n",
       "\n",
       "    .dataframe thead th {\n",
       "        text-align: right;\n",
       "    }\n",
       "</style>\n",
       "<table border=\"1\" class=\"dataframe\">\n",
       "  <thead>\n",
       "    <tr style=\"text-align: right;\">\n",
       "      <th></th>\n",
       "      <th>id</th>\n",
       "      <th>ident</th>\n",
       "      <th>type</th>\n",
       "      <th>name</th>\n",
       "      <th>latitude_deg</th>\n",
       "      <th>longitude_deg</th>\n",
       "      <th>elevation_ft</th>\n",
       "      <th>continent</th>\n",
       "      <th>iso_country</th>\n",
       "      <th>iso_region</th>\n",
       "      <th>municipality</th>\n",
       "      <th>scheduled_service</th>\n",
       "      <th>gps_code</th>\n",
       "      <th>iata_code</th>\n",
       "      <th>local_code</th>\n",
       "      <th>home_link</th>\n",
       "      <th>wikipedia_link</th>\n",
       "      <th>keywords</th>\n",
       "    </tr>\n",
       "  </thead>\n",
       "  <tbody>\n",
       "    <tr>\n",
       "      <th>0</th>\n",
       "      <td>6523</td>\n",
       "      <td>00A</td>\n",
       "      <td>heliport</td>\n",
       "      <td>Total Rf Heliport</td>\n",
       "      <td>40.070801</td>\n",
       "      <td>-74.933601</td>\n",
       "      <td>11.0</td>\n",
       "      <td>NaN</td>\n",
       "      <td>US</td>\n",
       "      <td>US-PA</td>\n",
       "      <td>Bensalem</td>\n",
       "      <td>no</td>\n",
       "      <td>00A</td>\n",
       "      <td>NaN</td>\n",
       "      <td>00A</td>\n",
       "      <td>NaN</td>\n",
       "      <td>NaN</td>\n",
       "      <td>NaN</td>\n",
       "    </tr>\n",
       "    <tr>\n",
       "      <th>1</th>\n",
       "      <td>6524</td>\n",
       "      <td>00AK</td>\n",
       "      <td>small_airport</td>\n",
       "      <td>Lowell Field</td>\n",
       "      <td>59.949200</td>\n",
       "      <td>-151.695999</td>\n",
       "      <td>450.0</td>\n",
       "      <td>NaN</td>\n",
       "      <td>US</td>\n",
       "      <td>US-AK</td>\n",
       "      <td>Anchor Point</td>\n",
       "      <td>no</td>\n",
       "      <td>00AK</td>\n",
       "      <td>NaN</td>\n",
       "      <td>00AK</td>\n",
       "      <td>NaN</td>\n",
       "      <td>NaN</td>\n",
       "      <td>NaN</td>\n",
       "    </tr>\n",
       "    <tr>\n",
       "      <th>2</th>\n",
       "      <td>6525</td>\n",
       "      <td>00AL</td>\n",
       "      <td>small_airport</td>\n",
       "      <td>Epps Airpark</td>\n",
       "      <td>34.864799</td>\n",
       "      <td>-86.770302</td>\n",
       "      <td>820.0</td>\n",
       "      <td>NaN</td>\n",
       "      <td>US</td>\n",
       "      <td>US-AL</td>\n",
       "      <td>Harvest</td>\n",
       "      <td>no</td>\n",
       "      <td>00AL</td>\n",
       "      <td>NaN</td>\n",
       "      <td>00AL</td>\n",
       "      <td>NaN</td>\n",
       "      <td>NaN</td>\n",
       "      <td>NaN</td>\n",
       "    </tr>\n",
       "    <tr>\n",
       "      <th>3</th>\n",
       "      <td>6526</td>\n",
       "      <td>00AR</td>\n",
       "      <td>heliport</td>\n",
       "      <td>Newport Hospital &amp; Clinic Heliport</td>\n",
       "      <td>35.608700</td>\n",
       "      <td>-91.254898</td>\n",
       "      <td>237.0</td>\n",
       "      <td>NaN</td>\n",
       "      <td>US</td>\n",
       "      <td>US-AR</td>\n",
       "      <td>Newport</td>\n",
       "      <td>no</td>\n",
       "      <td>00AR</td>\n",
       "      <td>NaN</td>\n",
       "      <td>00AR</td>\n",
       "      <td>NaN</td>\n",
       "      <td>NaN</td>\n",
       "      <td>NaN</td>\n",
       "    </tr>\n",
       "    <tr>\n",
       "      <th>4</th>\n",
       "      <td>6527</td>\n",
       "      <td>00AZ</td>\n",
       "      <td>small_airport</td>\n",
       "      <td>Cordes Airport</td>\n",
       "      <td>34.305599</td>\n",
       "      <td>-112.165001</td>\n",
       "      <td>3810.0</td>\n",
       "      <td>NaN</td>\n",
       "      <td>US</td>\n",
       "      <td>US-AZ</td>\n",
       "      <td>Cordes</td>\n",
       "      <td>no</td>\n",
       "      <td>00AZ</td>\n",
       "      <td>NaN</td>\n",
       "      <td>00AZ</td>\n",
       "      <td>NaN</td>\n",
       "      <td>NaN</td>\n",
       "      <td>NaN</td>\n",
       "    </tr>\n",
       "  </tbody>\n",
       "</table>\n",
       "</div>"
      ],
      "text/plain": [
       "     id ident           type                                name  \\\n",
       "0  6523   00A       heliport                   Total Rf Heliport   \n",
       "1  6524  00AK  small_airport                        Lowell Field   \n",
       "2  6525  00AL  small_airport                        Epps Airpark   \n",
       "3  6526  00AR       heliport  Newport Hospital & Clinic Heliport   \n",
       "4  6527  00AZ  small_airport                      Cordes Airport   \n",
       "\n",
       "   latitude_deg  longitude_deg  elevation_ft continent iso_country iso_region  \\\n",
       "0     40.070801     -74.933601          11.0       NaN          US      US-PA   \n",
       "1     59.949200    -151.695999         450.0       NaN          US      US-AK   \n",
       "2     34.864799     -86.770302         820.0       NaN          US      US-AL   \n",
       "3     35.608700     -91.254898         237.0       NaN          US      US-AR   \n",
       "4     34.305599    -112.165001        3810.0       NaN          US      US-AZ   \n",
       "\n",
       "   municipality scheduled_service gps_code iata_code local_code home_link  \\\n",
       "0      Bensalem                no      00A       NaN        00A       NaN   \n",
       "1  Anchor Point                no     00AK       NaN       00AK       NaN   \n",
       "2       Harvest                no     00AL       NaN       00AL       NaN   \n",
       "3       Newport                no     00AR       NaN       00AR       NaN   \n",
       "4        Cordes                no     00AZ       NaN       00AZ       NaN   \n",
       "\n",
       "  wikipedia_link keywords  \n",
       "0            NaN      NaN  \n",
       "1            NaN      NaN  \n",
       "2            NaN      NaN  \n",
       "3            NaN      NaN  \n",
       "4            NaN      NaN  "
      ]
     },
     "execution_count": 282,
     "metadata": {},
     "output_type": "execute_result"
    }
   ],
   "source": [
    "icao_df.head(5)"
   ]
  },
  {
   "cell_type": "code",
   "execution_count": 283,
   "id": "bd0ec3f2",
   "metadata": {},
   "outputs": [
    {
     "name": "stdout",
     "output_type": "stream",
     "text": [
      "['Hartsfield-Jackson Atlanta International Airport'\n",
      " \"Chicago O'Hare International Airport\"\n",
      " 'Los Angeles International Airport'\n",
      " 'Dallas/Fort Worth International Airport' 'Denver International Airport']\n"
     ]
    }
   ],
   "source": [
    "top_50_df = top_df.nlargest(50, \"Enplanements\")\n",
    "top_50_airport_names = top_50_df[\"Airport\"].values\n",
    "print(top_50_airport_names[:5])"
   ]
  },
  {
   "cell_type": "code",
   "execution_count": 362,
   "id": "0a58ca7f",
   "metadata": {},
   "outputs": [],
   "source": [
    "# make icao table\n",
    "\n",
    "!rm hw5.db\n",
    "connection = sqlite3.connect(\"hw5.db\")\n",
    "\n",
    "cursor = connection.cursor()\n",
    "\n",
    "sql_cmd = \"\"\"CREATE TABLE IF NOT EXISTS icao (id INTEGER PRIMARY KEY AUTOINCREMENT,\n",
    "    name TEXT, ident TEXT, wikipedia_link TEXT, latitude FLOAT, longitude FLOAT)\"\"\"\n",
    "\n",
    "cursor.execute(sql_cmd)\n",
    "\n",
    "for i, row in icao_df.iterrows():\n",
    "\n",
    "    name = row['name']\n",
    "    ident = row['ident']\n",
    "    wiki = str(row[\"wikipedia_link\"])\n",
    "    latitude = row[\"latitude_deg\"]\n",
    "    longitude = row[\"longitude_deg\"] \n",
    "\n",
    "    data = (name, ident, wiki, latitude, longitude)\n",
    "\n",
    "    # \"or ignore\" prevents inserting values if the primary key already exists\n",
    "    sql_cmd = (\"INSERT OR IGNORE INTO icao (name, ident, wikipedia_link, latitude, longitude) VALUES\" + str(data))\n",
    "    cursor.execute(sql_cmd)\n",
    "    \n",
    "connection.commit()  "
   ]
  },
  {
   "cell_type": "code",
   "execution_count": 363,
   "id": "361bd66c",
   "metadata": {},
   "outputs": [],
   "source": [
    "# make top 50 table\n",
    "\n",
    "cursor = connection.cursor()\n",
    "\n",
    "sql_cmd = \"\"\"CREATE TABLE IF NOT EXISTS top50 (id INTEGER PRIMARY KEY AUTOINCREMENT,\n",
    "    city TEXT, airport TEXT, icao TEXT, enplanements INT)\"\"\"\n",
    "\n",
    "cursor.execute(sql_cmd)\n",
    "\n",
    "for i, row in top_50_df.iterrows():\n",
    "    \n",
    "    city = str(row['City'])\n",
    "    airport = str(row[\"Airport\"])\n",
    "    icao = str(row[\"ICAO\"])\n",
    "    enplanements = int(row[\"Enplanements\"])\n",
    "    \n",
    "    data = (city, airport, icao, enplanements)\n",
    "    \n",
    "    sql_cmd = (\"INSERT OR IGNORE INTO top50 (city, airport, icao, enplanements) VALUES \" + str(data))\n",
    "    cursor.execute(sql_cmd)\n",
    "    \n",
    "    \n",
    "connection.commit()"
   ]
  },
  {
   "cell_type": "code",
   "execution_count": 364,
   "id": "f7d55f06",
   "metadata": {},
   "outputs": [],
   "source": [
    "sql_cmd = f\"\"\"SELECT *, top50.icao FROM icao, top50 WHERE icao.ident == top50.icao\"\"\""
   ]
  },
  {
   "cell_type": "code",
   "execution_count": 365,
   "id": "440c5c48",
   "metadata": {},
   "outputs": [
    {
     "data": {
      "text/plain": [
       "<sqlite3.Cursor at 0x1248bd810>"
      ]
     },
     "execution_count": 365,
     "metadata": {},
     "output_type": "execute_result"
    }
   ],
   "source": [
    "cursor.execute(sql_cmd)"
   ]
  },
  {
   "cell_type": "code",
   "execution_count": 366,
   "id": "d25388c1",
   "metadata": {},
   "outputs": [
    {
     "name": "stdout",
     "output_type": "stream",
     "text": [
      "50\n"
     ]
    }
   ],
   "source": [
    "db_info = cursor.fetchall()\n",
    "\n",
    "cnt = 0\n",
    "for entry in db_info: \n",
    "    cnt += 1\n",
    "print(cnt)"
   ]
  },
  {
   "cell_type": "code",
   "execution_count": 367,
   "id": "c5f910e1",
   "metadata": {},
   "outputs": [],
   "source": [
    "cursor = connection.cursor()\n",
    "\n",
    "sql_cmd = \"\"\"CREATE TABLE IF NOT EXISTS icao_top50 (id INTEGER PRIMARY KEY AUTOINCREMENT,\n",
    "    name TEXT, ident TEXT, wikipedia_link TEXT, latitude FLOAT, longitude FLOAT)\"\"\"\n",
    "\n",
    "cursor.execute(sql_cmd)\n",
    "\n",
    "for entry in db_info:\n",
    "\n",
    "    # \"or ignore\" prevents inserting values if the primary key already exists\n",
    "    sql_cmd = (\"INSERT OR IGNORE INTO icao_top50 (name, ident, wikipedia_link, latitude, longitude) VALUES\" \n",
    "               + str(entry[1:6]))\n",
    "    cursor.execute(sql_cmd)\n",
    "    \n",
    "connection.commit()  "
   ]
  },
  {
   "cell_type": "code",
   "execution_count": null,
   "id": "be676b94",
   "metadata": {},
   "outputs": [],
   "source": []
  },
  {
   "cell_type": "markdown",
   "id": "90693fb6",
   "metadata": {},
   "source": [
    "## 2. Build another table that will hold historical weather information: min/max temperature, relative humidity, and precipitation"
   ]
  },
  {
   "cell_type": "code",
   "execution_count": null,
   "id": "f517c96b",
   "metadata": {},
   "outputs": [],
   "source": [
    "# make weather table\n",
    "connection = sqlite3.connect(\"weather.db\")\n",
    "\n",
    "cursor = connection.cursor()\n",
    "\n",
    "sql_cmd = \"\"\"CREATE TABLE weather (id INTEGER PRIMARY KEY AUTOINCREMENT,\n",
    "              lat FLOAT, lon FLOAT, max_temp FLOAT, min_temp FLOAT, \n",
    "              max_hum FLOAT, min_hum FLOAT, precipitation FLOAT)\"\"\"\n",
    "\n",
    "cursor.execute(sql_cmd)"
   ]
  },
  {
   "cell_type": "code",
   "execution_count": null,
   "id": "fdcc7a66",
   "metadata": {},
   "outputs": [],
   "source": []
  },
  {
   "cell_type": "markdown",
   "id": "fdd0e848",
   "metadata": {},
   "source": [
    "## 3. Using the data from the xarray/netCDF4 example in class, populate the database from 1990-2000"
   ]
  },
  {
   "cell_type": "code",
   "execution_count": 372,
   "id": "78d64cc5",
   "metadata": {},
   "outputs": [],
   "source": [
    "import xarray as xr"
   ]
  },
  {
   "cell_type": "code",
   "execution_count": 396,
   "id": "80466346",
   "metadata": {},
   "outputs": [],
   "source": [
    "def select_data(path):\n",
    "    \n",
    "    # Open the data set as xarray\n",
    "    xr_ = xr.open_dataset(path)\n",
    "    \n",
    "    # Select data between 1990-2000\n",
    "    xr_ = xr_.sel(time=slice('1990', '2000')).load()\n",
    "    \n",
    "    return xr_"
   ]
  },
  {
   "cell_type": "code",
   "execution_count": 398,
   "id": "f828a16f",
   "metadata": {},
   "outputs": [],
   "source": [
    "# Data path from lecture\n",
    "max_temp_path = \"http://thredds.northwestknowledge.net:8080/thredds/dodsC/agg_macav2metdata_tasmax_BNU-ESM_r1i1p1_historical_1950_2005_CONUS_monthly.nc\" \n",
    "\n",
    "max_temp_xr = select_data(max_temp_path)"
   ]
  },
  {
   "cell_type": "code",
   "execution_count": 382,
   "id": "2caace0f",
   "metadata": {},
   "outputs": [],
   "source": [
    "min_temp_path = \"http://thredds.northwestknowledge.net:8080/thredds/dodsC/agg_macav2metdata_tasmin_BNU-ESM_r1i1p1_historical_1950_2005_CONUS_monthly.nc\" \n",
    "\n",
    "min_temp_xr = select_data(min_temp_path)"
   ]
  },
  {
   "cell_type": "code",
   "execution_count": 377,
   "id": "107da7bc",
   "metadata": {},
   "outputs": [],
   "source": [
    "max_hum_path = \"http://thredds.northwestknowledge.net:8080/thredds/dodsC/agg_macav2metdata_rhsmax_BNU-ESM_r1i1p1_historical_1950_2005_CONUS_monthly.nc\" \n",
    "\n",
    "max_hum_xr = select_data(max_hum_path)"
   ]
  },
  {
   "cell_type": "code",
   "execution_count": 376,
   "id": "773b897f",
   "metadata": {},
   "outputs": [],
   "source": [
    "min_hum_path = \"http://thredds.northwestknowledge.net:8080/thredds/dodsC/agg_macav2metdata_rhsmin_BNU-ESM_r1i1p1_historical_1950_2005_CONUS_monthly.nc\" \n",
    "\n",
    "min_hum_xr = select_data(min_hum_path)"
   ]
  },
  {
   "cell_type": "code",
   "execution_count": 373,
   "id": "99fc5335",
   "metadata": {},
   "outputs": [],
   "source": [
    "precip_path = \"http://thredds.northwestknowledge.net:8080/thredds/dodsC/agg_macav2metdata_pr_BNU-ESM_r1i1p1_historical_1950_2005_CONUS_monthly.nc\" \n",
    "\n",
    "precip_xr = select_data(precip_path)"
   ]
  },
  {
   "cell_type": "code",
   "execution_count": 392,
   "id": "513beac7",
   "metadata": {},
   "outputs": [
    {
     "name": "stdout",
     "output_type": "stream",
     "text": [
      "585\n"
     ]
    }
   ],
   "source": [
    "# Same latitudes and longitudes for all weather metrics\n",
    "lats = max_temp_xr[\"air_temperature\"][\"lat\"].values\n",
    "lons = max_temp_xr[\"air_temperature\"][\"lon\"].values\n",
    "print(len(lats))\n",
    "\n",
    "latitudes = np.array([round(x,2) for x in lats])\n",
    "longitudes = np.array([round(x,2) for x in lons])\n",
    "\n",
    "lat_idx = list(np.where(latitudes == 40.1)[0])\n",
    "lon_idx = list(np.where(longitudes == -74.9+360)[0])"
   ]
  },
  {
   "cell_type": "code",
   "execution_count": 395,
   "id": "fdc9ed22",
   "metadata": {},
   "outputs": [
    {
     "name": "stdout",
     "output_type": "stream",
     "text": [
      "(132, 1, 1)\n",
      "132\n"
     ]
    }
   ],
   "source": [
    "one_point = max_temp_xr[\"air_temperature\"].sel(lat=lats[lat_idx],\n",
    "                                               lon=lons[lon_idx])\n",
    "print((one_point.values).shape)\n",
    "print(len(one_point.values))"
   ]
  },
  {
   "cell_type": "code",
   "execution_count": null,
   "id": "56a9caaf",
   "metadata": {},
   "outputs": [],
   "source": [
    "n = len(precip_xr[\"precipitation\"])\n",
    "\n",
    "for i in range(n):\n",
    "    lat = lats[i]\n",
    "    lon = lons[i]"
   ]
  }
 ],
 "metadata": {
  "kernelspec": {
   "display_name": "Python 3 (ipykernel)",
   "language": "python",
   "name": "python3"
  },
  "language_info": {
   "codemirror_mode": {
    "name": "ipython",
    "version": 3
   },
   "file_extension": ".py",
   "mimetype": "text/x-python",
   "name": "python",
   "nbconvert_exporter": "python",
   "pygments_lexer": "ipython3",
   "version": "3.9.10"
  }
 },
 "nbformat": 4,
 "nbformat_minor": 5
}
