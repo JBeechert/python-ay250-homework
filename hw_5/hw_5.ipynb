{
 "cells": [
  {
   "cell_type": "markdown",
   "id": "5b0dd0cb",
   "metadata": {},
   "source": [
    "## Homework 5: Weather Prediction\n",
    "\n",
    "### Jacqueline Beechert, jbeechert@berkeley.edu\n",
    "\n",
    "Due Tuesday March 8, 2022 @ 5pm"
   ]
  },
  {
   "cell_type": "markdown",
   "id": "bbb0f7f1",
   "metadata": {},
   "source": [
    "## 1. Use the data supplied of airport codes (ICAO_airports.csv) and top airports (top_airports.csv) to make a table of 50 most travelled airports in the US and containing relevant information, like name, wikipedia link, latitude, longitude"
   ]
  },
  {
   "cell_type": "code",
   "execution_count": 264,
   "id": "b81c004b",
   "metadata": {},
   "outputs": [],
   "source": [
    "import pandas as pd\n",
    "import numpy as np\n",
    "import sqlite3"
   ]
  },
  {
   "cell_type": "code",
   "execution_count": 13,
   "id": "e474481d",
   "metadata": {},
   "outputs": [],
   "source": [
    "icao_df = pd.read_csv(\"hw_5_data/ICAO_airports.csv\")\n",
    "top_df = pd.read_csv(\"hw_5_data/top_airports.csv\")"
   ]
  },
  {
   "cell_type": "code",
   "execution_count": 350,
   "id": "eb5afb3f",
   "metadata": {},
   "outputs": [
    {
     "data": {
      "text/html": [
       "<div>\n",
       "<style scoped>\n",
       "    .dataframe tbody tr th:only-of-type {\n",
       "        vertical-align: middle;\n",
       "    }\n",
       "\n",
       "    .dataframe tbody tr th {\n",
       "        vertical-align: top;\n",
       "    }\n",
       "\n",
       "    .dataframe thead th {\n",
       "        text-align: right;\n",
       "    }\n",
       "</style>\n",
       "<table border=\"1\" class=\"dataframe\">\n",
       "  <thead>\n",
       "    <tr style=\"text-align: right;\">\n",
       "      <th></th>\n",
       "      <th>id</th>\n",
       "      <th>ident</th>\n",
       "      <th>type</th>\n",
       "      <th>name</th>\n",
       "      <th>latitude_deg</th>\n",
       "      <th>longitude_deg</th>\n",
       "      <th>elevation_ft</th>\n",
       "      <th>continent</th>\n",
       "      <th>iso_country</th>\n",
       "      <th>iso_region</th>\n",
       "      <th>municipality</th>\n",
       "      <th>scheduled_service</th>\n",
       "      <th>gps_code</th>\n",
       "      <th>iata_code</th>\n",
       "      <th>local_code</th>\n",
       "      <th>home_link</th>\n",
       "      <th>wikipedia_link</th>\n",
       "      <th>keywords</th>\n",
       "    </tr>\n",
       "  </thead>\n",
       "  <tbody>\n",
       "    <tr>\n",
       "      <th>0</th>\n",
       "      <td>6523</td>\n",
       "      <td>00A</td>\n",
       "      <td>heliport</td>\n",
       "      <td>Total Rf Heliport</td>\n",
       "      <td>40.070801</td>\n",
       "      <td>-74.933601</td>\n",
       "      <td>11.0</td>\n",
       "      <td>NaN</td>\n",
       "      <td>US</td>\n",
       "      <td>US-PA</td>\n",
       "      <td>Bensalem</td>\n",
       "      <td>no</td>\n",
       "      <td>00A</td>\n",
       "      <td>NaN</td>\n",
       "      <td>00A</td>\n",
       "      <td>NaN</td>\n",
       "      <td>NaN</td>\n",
       "      <td>NaN</td>\n",
       "    </tr>\n",
       "    <tr>\n",
       "      <th>1</th>\n",
       "      <td>6524</td>\n",
       "      <td>00AK</td>\n",
       "      <td>small_airport</td>\n",
       "      <td>Lowell Field</td>\n",
       "      <td>59.949200</td>\n",
       "      <td>-151.695999</td>\n",
       "      <td>450.0</td>\n",
       "      <td>NaN</td>\n",
       "      <td>US</td>\n",
       "      <td>US-AK</td>\n",
       "      <td>Anchor Point</td>\n",
       "      <td>no</td>\n",
       "      <td>00AK</td>\n",
       "      <td>NaN</td>\n",
       "      <td>00AK</td>\n",
       "      <td>NaN</td>\n",
       "      <td>NaN</td>\n",
       "      <td>NaN</td>\n",
       "    </tr>\n",
       "    <tr>\n",
       "      <th>2</th>\n",
       "      <td>6525</td>\n",
       "      <td>00AL</td>\n",
       "      <td>small_airport</td>\n",
       "      <td>Epps Airpark</td>\n",
       "      <td>34.864799</td>\n",
       "      <td>-86.770302</td>\n",
       "      <td>820.0</td>\n",
       "      <td>NaN</td>\n",
       "      <td>US</td>\n",
       "      <td>US-AL</td>\n",
       "      <td>Harvest</td>\n",
       "      <td>no</td>\n",
       "      <td>00AL</td>\n",
       "      <td>NaN</td>\n",
       "      <td>00AL</td>\n",
       "      <td>NaN</td>\n",
       "      <td>NaN</td>\n",
       "      <td>NaN</td>\n",
       "    </tr>\n",
       "    <tr>\n",
       "      <th>3</th>\n",
       "      <td>6526</td>\n",
       "      <td>00AR</td>\n",
       "      <td>heliport</td>\n",
       "      <td>Newport Hospital &amp; Clinic Heliport</td>\n",
       "      <td>35.608700</td>\n",
       "      <td>-91.254898</td>\n",
       "      <td>237.0</td>\n",
       "      <td>NaN</td>\n",
       "      <td>US</td>\n",
       "      <td>US-AR</td>\n",
       "      <td>Newport</td>\n",
       "      <td>no</td>\n",
       "      <td>00AR</td>\n",
       "      <td>NaN</td>\n",
       "      <td>00AR</td>\n",
       "      <td>NaN</td>\n",
       "      <td>NaN</td>\n",
       "      <td>NaN</td>\n",
       "    </tr>\n",
       "    <tr>\n",
       "      <th>4</th>\n",
       "      <td>6527</td>\n",
       "      <td>00AZ</td>\n",
       "      <td>small_airport</td>\n",
       "      <td>Cordes Airport</td>\n",
       "      <td>34.305599</td>\n",
       "      <td>-112.165001</td>\n",
       "      <td>3810.0</td>\n",
       "      <td>NaN</td>\n",
       "      <td>US</td>\n",
       "      <td>US-AZ</td>\n",
       "      <td>Cordes</td>\n",
       "      <td>no</td>\n",
       "      <td>00AZ</td>\n",
       "      <td>NaN</td>\n",
       "      <td>00AZ</td>\n",
       "      <td>NaN</td>\n",
       "      <td>NaN</td>\n",
       "      <td>NaN</td>\n",
       "    </tr>\n",
       "  </tbody>\n",
       "</table>\n",
       "</div>"
      ],
      "text/plain": [
       "     id ident           type                                name  \\\n",
       "0  6523   00A       heliport                   Total Rf Heliport   \n",
       "1  6524  00AK  small_airport                        Lowell Field   \n",
       "2  6525  00AL  small_airport                        Epps Airpark   \n",
       "3  6526  00AR       heliport  Newport Hospital & Clinic Heliport   \n",
       "4  6527  00AZ  small_airport                      Cordes Airport   \n",
       "\n",
       "   latitude_deg  longitude_deg  elevation_ft continent iso_country iso_region  \\\n",
       "0     40.070801     -74.933601          11.0       NaN          US      US-PA   \n",
       "1     59.949200    -151.695999         450.0       NaN          US      US-AK   \n",
       "2     34.864799     -86.770302         820.0       NaN          US      US-AL   \n",
       "3     35.608700     -91.254898         237.0       NaN          US      US-AR   \n",
       "4     34.305599    -112.165001        3810.0       NaN          US      US-AZ   \n",
       "\n",
       "   municipality scheduled_service gps_code iata_code local_code home_link  \\\n",
       "0      Bensalem                no      00A       NaN        00A       NaN   \n",
       "1  Anchor Point                no     00AK       NaN       00AK       NaN   \n",
       "2       Harvest                no     00AL       NaN       00AL       NaN   \n",
       "3       Newport                no     00AR       NaN       00AR       NaN   \n",
       "4        Cordes                no     00AZ       NaN       00AZ       NaN   \n",
       "\n",
       "  wikipedia_link keywords  \n",
       "0            NaN      NaN  \n",
       "1            NaN      NaN  \n",
       "2            NaN      NaN  \n",
       "3            NaN      NaN  \n",
       "4            NaN      NaN  "
      ]
     },
     "execution_count": 350,
     "metadata": {},
     "output_type": "execute_result"
    }
   ],
   "source": [
    "icao_df.head(5)"
   ]
  },
  {
   "cell_type": "code",
   "execution_count": 445,
   "id": "39239546",
   "metadata": {},
   "outputs": [
    {
     "data": {
      "text/plain": [
       "array(['Hartsfield-Jackson Atlanta International Airport',\n",
       "       \"Chicago O'Hare International Airport\",\n",
       "       'Los Angeles International Airport',\n",
       "       'Dallas/Fort Worth International Airport',\n",
       "       'Denver International Airport',\n",
       "       'John F. Kennedy International Airport',\n",
       "       'San Francisco International Airport',\n",
       "       'George Bush Intercontinental Airport',\n",
       "       'McCarran International Airport',\n",
       "       'Phoenix Sky Harbor International Airport',\n",
       "       'Charlotte/Douglas International Airport',\n",
       "       'Miami International Airport', 'Orlando International Airport',\n",
       "       'Newark Liberty International Airport',\n",
       "       'Detroit Metropolitan Wayne County Airport',\n",
       "       'Minneapolis-St. Paul International Airport (Wold-Chamberlain Field)',\n",
       "       'Seattle-Tacoma International Airport',\n",
       "       'Philadelphia International Airport',\n",
       "       'Gen. Edward Lawrence Logan International Airport',\n",
       "       'LaGuardia Airport (and Marine Air Terminal)',\n",
       "       'Washington Dulles International Airport',\n",
       "       'Baltimore/Washington International Thurgood Marshall Airport',\n",
       "       'Fort Lauderdale–Hollywood International Airport',\n",
       "       'Salt Lake City International Airport',\n",
       "       'Honolulu International Airport / Hickam AFB',\n",
       "       'Ronald Reagan Washington National Airport',\n",
       "       'Chicago Midway International Airport',\n",
       "       'San Diego International Airport', 'Tampa International Airport',\n",
       "       'Portland International Airport',\n",
       "       'Lambert-St. Louis International Airport',\n",
       "       'Kansas City International Airport',\n",
       "       'Memphis International Airport',\n",
       "       'Cleveland-Hopkins International Airport',\n",
       "       'Oakland International Airport',\n",
       "       'Luis Muñoz Marín International Airport',\n",
       "       'Raleigh-Durham International Airport',\n",
       "       'Nashville International Airport (Berry Field)',\n",
       "       'Sacramento International Airport', 'William P. Hobby Airport',\n",
       "       'John Wayne Airport – Orange County (was Orange County Airport)',\n",
       "       'Austin-Bergstrom International Airport',\n",
       "       'Norman Y. Mineta San José International Airport',\n",
       "       'Louis Armstrong New Orleans International Airport',\n",
       "       'Pittsburgh International Airport',\n",
       "       'San Antonio International Airport',\n",
       "       'Cincinnati/Northern Kentucky International Airport',\n",
       "       'General Mitchell International Airport', 'Dallas Love Field',\n",
       "       'Indianapolis International Airport'], dtype=object)"
      ]
     },
     "execution_count": 445,
     "metadata": {},
     "output_type": "execute_result"
    }
   ],
   "source": [
    "top_50_df[\"Airport\"].values"
   ]
  },
  {
   "cell_type": "code",
   "execution_count": 451,
   "id": "40aac766",
   "metadata": {},
   "outputs": [
    {
     "name": "stdout",
     "output_type": "stream",
     "text": [
      "['Hartsfield-Jackson Atlanta International', \"Chicago O'Hare International\", 'Los Angeles International', 'Dallas/Fort Worth International', 'Denver International', 'John F. Kennedy International', 'San Francisco International', 'George Bush Intercontinental', 'McCarran International', 'Phoenix Sky Harbor International', 'Charlotte/Douglas International', 'Miami International', 'Orlando International', 'Newark Liberty International', 'Detroit Metropolitan Wayne County', 'Minneapolis-St. Paul International Airport (Wold-Chamberlain Field)', 'Seattle-Tacoma International', 'Philadelphia International', 'Gen. Edward Lawrence Logan International', 'LaGuardia Airport (and Marine Air Terminal)', 'Washington Dulles International', 'Baltimore/Washington International Thurgood Marshall', 'Fort Lauderdale–Hollywood International', 'Salt Lake City International', 'Honolulu International Airport / Hickam AFB', 'Ronald Reagan Washington National', 'Chicago Midway International', 'San Diego International', 'Tampa International', 'Portland International', 'Lambert-St. Louis International', 'Kansas City International', 'Memphis International', 'Cleveland-Hopkins International', 'Oakland International', 'Luis Muñoz Marín International', 'Raleigh-Durham International', 'Nashville International Airport (Berry Field)', 'Sacramento International', 'William P. Hobby', 'John Wayne Airport – Orange County (was Orange County Airport)', 'ustin-Bergstrom International', 'Norman Y. Mineta San José International', 'Louis Armstrong New Orleans International', 'Pittsburgh International', 'San Antonio International', 'Cincinnati/Northern Kentucky International', 'General Mitchell International', 'Dallas Love Field', 'Indianapolis International']\n",
      "['Hartsfield-Jackson Atlanta International', 'Chicago OHare International', 'Los Angeles International', 'Dallas/Fort Worth International', 'Denver International', 'John F. Kennedy International', 'San Francisco International', 'George Bush Intercontinental', 'McCarran International', 'Phoenix Sky Harbor International', 'Charlotte/Douglas International', 'Miami International', 'Orlando International', 'Newark Liberty International', 'Detroit Metropolitan Wayne County', 'Minneapolis-St. Paul International Airport (Wold-Chamberlain Field)', 'Seattle-Tacoma International', 'Philadelphia International', 'Gen. Edward Lawrence Logan International', 'LaGuardia Airport (and Marine Air Terminal)', 'Washington Dulles International', 'Baltimore/Washington International Thurgood Marshall', 'Fort Lauderdale–Hollywood International', 'Salt Lake City International', 'Honolulu International Airport / Hickam AFB', 'Ronald Reagan Washington National', 'Chicago Midway International', 'San Diego International', 'Tampa International', 'Portland International', 'Lambert-St. Louis International', 'Kansas City International', 'Memphis International', 'Cleveland-Hopkins International', 'Oakland International', 'Luis Muñoz Marín International', 'Raleigh-Durham International', 'Nashville International Airport (Berry Field)', 'Sacramento International', 'William P. Hobby', 'John Wayne Airport – Orange County (was Orange County Airport)', 'ustin-Bergstrom International', 'Norman Y. Mineta San José International', 'Louis Armstrong New Orleans International', 'Pittsburgh International', 'San Antonio International', 'Cincinnati/Northern Kentucky International', 'General Mitchell International', 'Dallas Love Field', 'Indianapolis International']\n"
     ]
    }
   ],
   "source": [
    "top_50_df = top_df.nlargest(50, \"Enplanements\")\n",
    "top_50_airport_names = [x.strip(\" Airport\") for x in top_50_df[\"Airport\"].values]\n",
    "print(top_50_airport_names)\n",
    "top_50_airport_names[1] = 'Chicago O''Hare International'\n",
    "print(top_50_airport_names)"
   ]
  },
  {
   "cell_type": "code",
   "execution_count": 452,
   "id": "b16ca103",
   "metadata": {},
   "outputs": [
    {
     "name": "stderr",
     "output_type": "stream",
     "text": [
      "/var/folders/b5/08p_fml511n2rn57cysbxlq80000gn/T/ipykernel_75684/1949688473.py:5: UserWarning: This pattern is interpreted as a regular expression, and has match groups. To actually get the groups, use str.extract.\n",
      "  l.append(icao_df.loc[icao_df[\"name\"].str.contains(name)])\n"
     ]
    },
    {
     "name": "stdout",
     "output_type": "stream",
     "text": [
      "Is this length 50? True\n"
     ]
    }
   ],
   "source": [
    "# Silly check of if we uniquely associated one airport in top_50_df with one airport in icao_df\n",
    "# This might be a good way to compare the tables later\n",
    "l = []\n",
    "for name in top_50_airport_names:\n",
    "    l.append(icao_df.loc[icao_df[\"name\"].str.contains(name)])\n",
    "\n",
    "# Should be 50\n",
    "print(f\"Is this length 50? {len(l)==50}\") "
   ]
  },
  {
   "cell_type": "code",
   "execution_count": 453,
   "id": "7686e40a",
   "metadata": {},
   "outputs": [],
   "source": [
    "# make icao table\n",
    "connection = sqlite3.connect(\":memory:\")\n",
    "\n",
    "cursor = connection.cursor()\n",
    "\n",
    "sql_cmd = \"\"\"CREATE TABLE icao (id INTEGER PRIMARY KEY AUTOINCREMENT,\n",
    "    name TEXT, wikipedia_link TEXT, latitude FLOAT, longitude FLOAT)\"\"\"\n",
    "\n",
    "cursor.execute(sql_cmd)\n",
    "\n",
    "# looping over top_50_airport_names with this if statement is very slow\n",
    "#for top_name in top_50_airport_names:\n",
    "\n",
    "for i, row in icao_df.iterrows():\n",
    "\n",
    "    icao_name = row['name']\n",
    "    wiki = str(row[\"wikipedia_link\"])\n",
    "    latitude = row[\"latitude_deg\"]\n",
    "    longitude = row[\"longitude_deg\"]    \n",
    "\n",
    "    data = (icao_name, wiki, latitude, longitude)\n",
    "\n",
    "    # looping over top_50_airport_names with this if statement is very slow\n",
    "    #if icao_name in top_name:\n",
    "    #    print(icao_name, top_name)\n",
    "\n",
    "    sql_cmd = (\"INSERT INTO icao (name, wikipedia_link, latitude, longitude) VALUES \" + str(data))\n",
    "    cursor.execute(sql_cmd)\n",
    "    \n",
    "connection.commit()\n",
    "#connection.close()    "
   ]
  },
  {
   "cell_type": "code",
   "execution_count": 311,
   "id": "e26a91e9",
   "metadata": {},
   "outputs": [],
   "source": [
    "# cursor.execute(\"\"\"SELECT * from icao\"\"\")\n",
    "# icao_info = cursor.fetchall()\n",
    "# for entry in icao_info: \n",
    "#     print(entry)"
   ]
  },
  {
   "cell_type": "code",
   "execution_count": 429,
   "id": "e7a95a0b",
   "metadata": {},
   "outputs": [],
   "source": [
    "# # make top 50 table\n",
    "# #connection = sqlite3.connect(\":memory:\")\n",
    "\n",
    "# cursor = connection.cursor()\n",
    "\n",
    "# sql_cmd = \"\"\"CREATE TABLE top50 (id INTEGER PRIMARY KEY AUTOINCREMENT,\n",
    "#     city TEXT, airport TEXT, enplanements INT)\"\"\"\n",
    "\n",
    "# cursor.execute(sql_cmd)\n",
    "\n",
    "# for i, row in top_50_df.iterrows():\n",
    "    \n",
    "#     city = row['City']\n",
    "#     airport = str(row[\"Airport\"])\n",
    "#     enplanements = row[\"Enplanements\"]\n",
    "    \n",
    "#     data = (city, airport, enplanements)\n",
    "    \n",
    "#     sql_cmd = (\"INSERT INTO top50 (city, airport, enplanements) VALUES \" + str(data))\n",
    "#     cursor.execute(sql_cmd)\n",
    "    \n",
    "# connection.commit()"
   ]
  },
  {
   "cell_type": "code",
   "execution_count": 457,
   "id": "ad2089c5",
   "metadata": {},
   "outputs": [
    {
     "name": "stdout",
     "output_type": "stream",
     "text": [
      "['Hartsfield-Jackson Atlanta International', 'Chicago OHare International', 'Los Angeles International', 'Dallas/Fort Worth International', 'Denver International'] \n",
      "\n",
      "SELECT * FROM icao WHERE CONTAINS(name, 'Hartsfield-Jackson Atlanta International')\n"
     ]
    },
    {
     "ename": "OperationalError",
     "evalue": "no such function: CONTAINS",
     "output_type": "error",
     "traceback": [
      "\u001b[0;31m---------------------------------------------------------------------------\u001b[0m",
      "\u001b[0;31mOperationalError\u001b[0m                          Traceback (most recent call last)",
      "Input \u001b[0;32mIn [457]\u001b[0m, in \u001b[0;36m<module>\u001b[0;34m\u001b[0m\n\u001b[1;32m      5\u001b[0m sql_cmd \u001b[38;5;241m=\u001b[39m \u001b[38;5;124mf\u001b[39m\u001b[38;5;124m\"\"\"\u001b[39m\u001b[38;5;124mSELECT * FROM icao WHERE CONTAINS(name, \u001b[39m\u001b[38;5;124m'\u001b[39m\u001b[38;5;132;01m{\u001b[39;00mtop_name\u001b[38;5;132;01m}\u001b[39;00m\u001b[38;5;124m'\u001b[39m\u001b[38;5;124m)\u001b[39m\u001b[38;5;124m\"\"\"\u001b[39m \n\u001b[1;32m      7\u001b[0m \u001b[38;5;28mprint\u001b[39m(sql_cmd)\n\u001b[0;32m----> 8\u001b[0m \u001b[43mcursor\u001b[49m\u001b[38;5;241;43m.\u001b[39;49m\u001b[43mexecute\u001b[49m\u001b[43m(\u001b[49m\u001b[43msql_cmd\u001b[49m\u001b[43m)\u001b[49m\n\u001b[1;32m     10\u001b[0m info \u001b[38;5;241m=\u001b[39m cursor\u001b[38;5;241m.\u001b[39mfetchall()\n\u001b[1;32m     11\u001b[0m \u001b[38;5;28mprint\u001b[39m(info)\n",
      "\u001b[0;31mOperationalError\u001b[0m: no such function: CONTAINS"
     ]
    }
   ],
   "source": [
    "print(top_50_airport_names[:5],\"\\n\")\n",
    "for top_name in top_50_airport_names:\n",
    "\n",
    "    #sql_cmd = f\"\"\"SELECT * FROM icao WHERE name LIKE '{top_name}'\"\"\" \n",
    "    sql_cmd = f\"\"\"SELECT * FROM icao WHERE CONTAINS(name, '{top_name}')\"\"\" \n",
    "    \n",
    "    print(sql_cmd)\n",
    "    cursor.execute(sql_cmd)\n",
    "\n",
    "    info = cursor.fetchall()\n",
    "    print(info)"
   ]
  },
  {
   "cell_type": "code",
   "execution_count": 399,
   "id": "25e895f6",
   "metadata": {},
   "outputs": [
    {
     "name": "stdout",
     "output_type": "stream",
     "text": [
      "(21574, 'Dallas Love Field', 'http://en.wikipedia.org/wiki/Dallas_Love_Field', 32.8470993041992, -96.8517990112305)\n"
     ]
    }
   ],
   "source": [
    "info = cursor.fetchall()\n",
    "\n",
    "#sql_cmd = \"\"\"CREATE TABLE icao_top50 (id INTEGER PRIMARY KEY AUTOINCREMENT,\n",
    "#    name TEXT, wikipedia_link TEXT, latitude FLOAT, longitude FLOAT)\"\"\"\n",
    "#cursor.execute(sql_cmd)\n",
    "\n",
    "for entry in info: \n",
    "    print(entry)"
   ]
  },
  {
   "cell_type": "code",
   "execution_count": null,
   "id": "4632115f",
   "metadata": {},
   "outputs": [],
   "source": []
  },
  {
   "cell_type": "code",
   "execution_count": null,
   "id": "d5a91c58",
   "metadata": {},
   "outputs": [],
   "source": []
  },
  {
   "cell_type": "code",
   "execution_count": null,
   "id": "e086d973",
   "metadata": {},
   "outputs": [],
   "source": []
  },
  {
   "cell_type": "markdown",
   "id": "4ae5679d",
   "metadata": {},
   "source": [
    "## 2. Build another table that will hold historical weather information: min/max temperature, relative humidity, and precipitation"
   ]
  },
  {
   "cell_type": "code",
   "execution_count": null,
   "id": "a5b0c345",
   "metadata": {},
   "outputs": [],
   "source": [
    "# make weather table\n",
    "connection = sqlite3.connect(\":memory:\")\n",
    "\n",
    "cursor = connection.cursor()\n",
    "\n",
    "sql_cmd = \"\"\"CREATE TABLE weather (id INTEGER PRIMARY KEY AUTOINCREMENT,\n",
    "    min_temp FLOAT, max_temp FLOAT, rel_humidity FLOAT, precipitation FLOAT)\"\"\"\n",
    "\n",
    "cursor.execute(sql_cmd)"
   ]
  },
  {
   "cell_type": "code",
   "execution_count": null,
   "id": "79afdc8f",
   "metadata": {},
   "outputs": [],
   "source": []
  },
  {
   "cell_type": "markdown",
   "id": "49b2d16b",
   "metadata": {},
   "source": [
    "## 3. Using the data from the xarray/netCDF4 example in class, populate the database from 1990-2000"
   ]
  },
  {
   "cell_type": "code",
   "execution_count": 189,
   "id": "823ca86f",
   "metadata": {},
   "outputs": [],
   "source": [
    "import xarray as xr"
   ]
  },
  {
   "cell_type": "code",
   "execution_count": 252,
   "id": "7082b2b4",
   "metadata": {},
   "outputs": [],
   "source": [
    "# Data path from lecture\n",
    "max_temp_path = \"http://thredds.northwestknowledge.net:8080/thredds/dodsC/agg_macav2metdata_tasmax_BNU-ESM_r1i1p1_historical_1950_2005_CONUS_monthly.nc\" \n",
    "\n",
    "# Open the data set as xarray\n",
    "max_temp_xr  = xr.open_dataset(max_temp_path)  \n",
    "\n",
    "# Select data between 1990-2000\n",
    "max_temp_xr = max_temp_xr.sel(time=slice('1990', '2000')).load()\n",
    "\n",
    "# View xarray object\n",
    "#max_temp_xr   # data variable: air_temperature"
   ]
  },
  {
   "cell_type": "code",
   "execution_count": 233,
   "id": "70c01ee9",
   "metadata": {},
   "outputs": [],
   "source": [
    "# maximum/minimum temperature(tasmax/tasmin)\n",
    "# maximum/minimum relative humidity (rhsmax/rhsmin)\n",
    "# precipitation amount(pr)"
   ]
  },
  {
   "cell_type": "code",
   "execution_count": 228,
   "id": "ed88f272",
   "metadata": {},
   "outputs": [],
   "source": [
    "min_temp_path = \"http://thredds.northwestknowledge.net:8080/thredds/dodsC/agg_macav2metdata_tasmin_BNU-ESM_r1i1p1_historical_1950_2005_CONUS_monthly.nc\" \n",
    "\n",
    "# Open the data set as xarray\n",
    "min_temp_xr  = xr.open_dataset(min_temp_path)  \n",
    "\n",
    "# Select data between 1990-2000\n",
    "min_temp_xr = min_temp_xr.sel(time=slice('1990', '2000')).load()\n",
    "\n",
    "# View xarray object\n",
    "#min_temp_xr   # data variable: air_temperature"
   ]
  },
  {
   "cell_type": "code",
   "execution_count": 230,
   "id": "d219b92b",
   "metadata": {},
   "outputs": [],
   "source": [
    "max_hum_path = \"http://thredds.northwestknowledge.net:8080/thredds/dodsC/agg_macav2metdata_rhsmax_BNU-ESM_r1i1p1_historical_1950_2005_CONUS_monthly.nc\" \n",
    "\n",
    "# Open the data set as xarray\n",
    "max_hum_xr  = xr.open_dataset(max_hum_path)  \n",
    "\n",
    "# Select data between 1990-2000\n",
    "max_hum_xr = max_hum_xr.sel(time=slice('1990', '2000')).load()"
   ]
  },
  {
   "cell_type": "code",
   "execution_count": 239,
   "id": "6f09da9b",
   "metadata": {},
   "outputs": [],
   "source": [
    "#max_hum_xr  # data variable: relative_humidity"
   ]
  },
  {
   "cell_type": "code",
   "execution_count": 232,
   "id": "917e8f10",
   "metadata": {},
   "outputs": [],
   "source": [
    "min_hum_path = \"http://thredds.northwestknowledge.net:8080/thredds/dodsC/agg_macav2metdata_rhsmin_BNU-ESM_r1i1p1_historical_1950_2005_CONUS_monthly.nc\" \n",
    "\n",
    "# Open the data set as xarray\n",
    "min_hum_xr  = xr.open_dataset(min_hum_path)  \n",
    "\n",
    "# Select data between 1990-2000\n",
    "min_hum_xr = min_hum_xr.sel(time=slice('1990', '2000')).load()"
   ]
  },
  {
   "cell_type": "code",
   "execution_count": 237,
   "id": "9cfe52d3",
   "metadata": {},
   "outputs": [],
   "source": [
    "#min_hum_xr   # data variable: relative_humidity"
   ]
  },
  {
   "cell_type": "code",
   "execution_count": 231,
   "id": "9e99d127",
   "metadata": {},
   "outputs": [],
   "source": [
    "precip_path = \"http://thredds.northwestknowledge.net:8080/thredds/dodsC/agg_macav2metdata_pr_BNU-ESM_r1i1p1_historical_1950_2005_CONUS_monthly.nc\" \n",
    "\n",
    "# Open the data set as xarray\n",
    "precip_xr  = xr.open_dataset(precip_path)  \n",
    "\n",
    "# Select data between 1990-2000\n",
    "precip_xr = precip_xr.sel(time=slice('1990', '2000')).load()"
   ]
  },
  {
   "cell_type": "code",
   "execution_count": 238,
   "id": "6f51e7ff",
   "metadata": {},
   "outputs": [],
   "source": [
    "#precip_xr    # data variable: precipitation"
   ]
  },
  {
   "cell_type": "code",
   "execution_count": 306,
   "id": "c565963c",
   "metadata": {},
   "outputs": [],
   "source": [
    "lats = max_temp_xr[\"air_temperature\"][\"lat\"].values\n",
    "lons = max_temp_xr[\"air_temperature\"][\"lon\"].values\n",
    "\n",
    "latitudes = np.array([round(x,2) for x in lats])\n",
    "longitudes = np.array([round(x,2) for x in lons])\n",
    "\n",
    "lat_idx = list(np.where(latitudes == 40.1)[0])\n",
    "lon_idx = list(np.where(longitudes == -74.9+360)[0])"
   ]
  },
  {
   "cell_type": "code",
   "execution_count": 305,
   "id": "1fc3f173",
   "metadata": {},
   "outputs": [
    {
     "name": "stdout",
     "output_type": "stream",
     "text": [
      "(132, 1, 1)\n"
     ]
    }
   ],
   "source": [
    "one_point = max_temp_xr[\"air_temperature\"].sel(lat=lats[lat_idx],\n",
    "                                               lon=lons[lon_idx])\n",
    "print((one_point.values).shape)"
   ]
  },
  {
   "cell_type": "code",
   "execution_count": null,
   "id": "d5449695",
   "metadata": {},
   "outputs": [],
   "source": []
  }
 ],
 "metadata": {
  "kernelspec": {
   "display_name": "Python 3 (ipykernel)",
   "language": "python",
   "name": "python3"
  },
  "language_info": {
   "codemirror_mode": {
    "name": "ipython",
    "version": 3
   },
   "file_extension": ".py",
   "mimetype": "text/x-python",
   "name": "python",
   "nbconvert_exporter": "python",
   "pygments_lexer": "ipython3",
   "version": "3.9.10"
  }
 },
 "nbformat": 4,
 "nbformat_minor": 5
}
